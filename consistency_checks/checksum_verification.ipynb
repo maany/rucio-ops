{
 "cells": [
  {
   "cell_type": "markdown",
   "metadata": {},
   "source": [
    "# Checksum Verification ( adler32 )\n",
    "\n",
    "For the DIDs that were present in both, rucio dumps and seal dumps, we will validate whether the checksums reported in both dumps are the same or not."
   ]
  },
  {
   "cell_type": "markdown",
   "metadata": {},
   "source": [
    "## Time Range\n",
    "We need to pick a time range used to filter the DIDs from the dumps. The end time is limited by the fact that we do not have all the checksums for the DIDs in the SEAL dumps after a certain time. We will use the following time range for the analysis:"
   ]
  },
  {
   "cell_type": "code",
   "execution_count": 2,
   "metadata": {},
   "outputs": [],
   "source": [
    "time_start = '20220101' # YYYYMMDD\n",
    "time_end = '20220801' # YYYYMMDD"
   ]
  },
  {
   "cell_type": "markdown",
   "metadata": {},
   "source": [
    "# Checksums calculated by SEAL\n",
    "\n",
    "The `data/seal/checksums/entries_{start_date}_{end_date}.csv` file contains the checksums (adler32, md5, sha256) calculated by SEAL for the DIDs available on their storage. \n"
   ]
  },
  {
   "cell_type": "code",
   "execution_count": 11,
   "metadata": {},
   "outputs": [
    {
     "name": "stdout",
     "output_type": "stream",
     "text": [
      "Num Entries: 516978\n",
      "Total Size: 343.429 TB\n"
     ]
    }
   ],
   "source": [
    "import pandas as pd\n",
    "from core.utils import bytesToTB\n",
    "dir = 'data/seal/checksums'\n",
    "entries_file = f'{dir}/entries_{time_start}_{time_end}.csv'\n",
    "entries = pd.read_csv(entries_file)\n",
    "\n",
    "total_size_entries = entries['size_bytes'].sum()\n",
    "\n",
    "print(f'Num Entries: {len(entries)}')\n",
    "print(f'Total Size: {bytesToTB(total_size_entries)} TB')"
   ]
  },
  {
   "cell_type": "markdown",
   "metadata": {},
   "source": [
    "The `data/seal/checksums/errors_{start_date}_{end_date}.csv` file contains entries that for which the checksum could not be calculated by SEAL and the specific errors that occurred.\n",
    "\n",
    "- Most of the errors indicate 404 Not Found, which means SEAL has data for the file, but the last few chunks did not complete transfer\n",
    "- Entries with a 500 Internal Server Error are essentially the same as the 404, but the in addition the to the chunk(s) missing, the metadata record could not be found"
   ]
  },
  {
   "cell_type": "code",
   "execution_count": 14,
   "metadata": {},
   "outputs": [
    {
     "name": "stdout",
     "output_type": "stream",
     "text": [
      "Num Errors: 4387\n"
     ]
    }
   ],
   "source": [
    "errors_file = f'data/seal/checksums/errors_{time_start}_{time_end}.csv'\n",
    "errors = pd.read_csv(errors_file)\n",
    "\n",
    "print(f'Num Errors: {len(errors)}')"
   ]
  },
  {
   "cell_type": "markdown",
   "metadata": {},
   "source": []
  }
 ],
 "metadata": {
  "kernelspec": {
   "display_name": ".venv",
   "language": "python",
   "name": "python3"
  },
  "language_info": {
   "codemirror_mode": {
    "name": "ipython",
    "version": 3
   },
   "file_extension": ".py",
   "mimetype": "text/x-python",
   "name": "python",
   "nbconvert_exporter": "python",
   "pygments_lexer": "ipython3",
   "version": "3.11.9"
  }
 },
 "nbformat": 4,
 "nbformat_minor": 2
}
