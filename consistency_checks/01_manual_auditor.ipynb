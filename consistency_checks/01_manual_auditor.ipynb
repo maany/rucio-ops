{
 "cells": [
  {
   "cell_type": "code",
   "execution_count": 1,
   "metadata": {},
   "outputs": [],
   "source": [
    "import pandas as pd\n",
    "pd.options.plotting.backend='matplotlib'\n"
   ]
  },
  {
   "cell_type": "markdown",
   "metadata": {},
   "source": [
    "# SEAL dumps: Serialize into TimeRangeSourceData\n",
    "---\n",
    "\n",
    "In this step, we load the files that contain the dumps provided by SEAL and store them in a TimeRangeSourceData format. This format is a dictionary that contains the following keys:\n",
    "start: the start time of the dump\n",
    "end: the end time of the dump\n",
    "file: the file that contains the dump\n",
    "source: the source of the dump ( SEAL or Rucio ). In this case, it will be SEAL."
   ]
  },
  {
   "cell_type": "code",
   "execution_count": 2,
   "metadata": {},
   "outputs": [],
   "source": [
    "from infratructure.repository.data_repository import list_files\n",
    "from datetime import datetime\n",
    "from core.entity import TimeRangeSourceData\n",
    "dir = 'data/seal'\n",
    "data_files = list_files(dir)\n",
    "data_files = [x.split('.')[0] for x in data_files]\n",
    "seal_dumps_time_ranges = []\n",
    "for file in data_files:\n",
    "    _, start_date, end_date = file.split('_')\n",
    "    start_date = datetime.strptime(start_date, '%Y%m%d')\n",
    "    end_date = datetime.strptime(end_date, '%Y%m%d')\n",
    "    df = pd.read_csv(f\"{dir}/{file}.csv\")\n",
    "    seal_dumps_time_ranges.append(TimeRangeSourceData(start=start_date, end=end_date, source='SEAL', file=f\"{dir}/{file}.csv\", df=df))\n"
   ]
  },
  {
   "cell_type": "markdown",
   "metadata": {},
   "source": [
    "## Check the continuity of the time ranges\n",
    "\n",
    "For all the files that we have, we will check if the time intervals are chained. This means that the end time of a dump is the same as the start time of the next dump. If this is not the case, we will print an error message."
   ]
  },
  {
   "cell_type": "code",
   "execution_count": 3,
   "metadata": {},
   "outputs": [
    {
     "name": "stdout",
     "output_type": "stream",
     "text": [
      "Continuity Error: 2023-02-01 00:00:00 != 2023-01-31 00:00:00\n",
      "Check files data/seal/rucio_20221201_20230201.csv and data/seal/rucio_20230131_20230410.csv\n"
     ]
    }
   ],
   "source": [
    "# sort by start date\n",
    "seal_dumps_time_ranges = sorted(seal_dumps_time_ranges, key=lambda x: x.start)\n",
    "\n",
    "# check if the entrires form a continuous time range\n",
    "for i in range(1, len(seal_dumps_time_ranges)):\n",
    "    if seal_dumps_time_ranges[i].start != seal_dumps_time_ranges[i-1].end:\n",
    "        print(f\"Continuity Error: {seal_dumps_time_ranges[i-1].end} != {seal_dumps_time_ranges[i].start}\")\n",
    "        print(f\"Check files {seal_dumps_time_ranges[i-1].file} and {seal_dumps_time_ranges[i].file}\")\n",
    "        \n"
   ]
  },
  {
   "cell_type": "markdown",
   "metadata": {},
   "source": [
    "## Merge the data across different time ranges\n",
    "\n",
    "### Shortlist the final set of time ranges that form a continuous chain."
   ]
  },
  {
   "cell_type": "code",
   "execution_count": 4,
   "metadata": {},
   "outputs": [],
   "source": [
    "selected_time_ranges = seal_dumps_time_ranges[0:]"
   ]
  },
  {
   "cell_type": "markdown",
   "metadata": {},
   "source": [
    "### Concatenate the time ranges to form a single time range."
   ]
  },
  {
   "cell_type": "code",
   "execution_count": 5,
   "metadata": {},
   "outputs": [],
   "source": [
    "seal_dumps_concatenated_df = pd.concat([x.df for x in selected_time_ranges])\n",
    "\n",
    "# sort by mtime, then by name\n",
    "seal_dumps_concatenated_df = seal_dumps_concatenated_df.sort_values(by=['mtime', 'name'])\n",
    "\n",
    "# convert mtime to datetime\n",
    "seal_dumps_concatenated_df['mtime'] = pd.to_datetime(seal_dumps_concatenated_df['mtime'])"
   ]
  },
  {
   "cell_type": "markdown",
   "metadata": {},
   "source": [
    "### Add a month and year key to each row"
   ]
  },
  {
   "cell_type": "code",
   "execution_count": 6,
   "metadata": {},
   "outputs": [],
   "source": [
    "# add a month column\n",
    "seal_dumps_concatenated_df['month'] = seal_dumps_concatenated_df['mtime'].dt.month\n",
    "\n",
    "# add a year column\n",
    "seal_dumps_concatenated_df['year'] = seal_dumps_concatenated_df['mtime'].dt.year\n"
   ]
  },
  {
   "cell_type": "code",
   "execution_count": 7,
   "metadata": {},
   "outputs": [
    {
     "data": {
      "text/plain": [
       "356748"
      ]
     },
     "execution_count": 7,
     "metadata": {},
     "output_type": "execute_result"
    }
   ],
   "source": [
    "len(seal_dumps_concatenated_df[(seal_dumps_concatenated_df['month'] == 5) & (seal_dumps_concatenated_df['year'] == 2022) ])\n",
    "# seal_dumps_concatenated_df[\"year\"].unique()\n"
   ]
  },
  {
   "cell_type": "markdown",
   "metadata": {},
   "source": [
    "# Rucio Dumps: Serialize Rucio dumps into Pandas DataFrame\n",
    "---\n",
    "\n",
    "In this step, we load the files that contain the dumps provided by Rucio and store them in a Pandas Dataframe format."
   ]
  },
  {
   "cell_type": "code",
   "execution_count": 8,
   "metadata": {},
   "outputs": [],
   "source": [
    "rucio_dumps_file = 'data/rucio/SEAL_TEST_2023-04-10'\n",
    "data = []\n",
    "with open(rucio_dumps_file) as f:\n",
    "    rucio_dumps_data = f.readlines()\n",
    "    for rucio_dumps_row in rucio_dumps_data:\n",
    "        columns = rucio_dumps_row.split('\\t')\n",
    "        columns = [x.strip() for x in columns]\n",
    "        rse, scope, name, checksum, size, creation_date, path, update_date, state , _, _, _= columns\n",
    "        __file_name = path.split('/')[-1]\n",
    "        __start_path = '/'.join(path.split('/')[0:-3])\n",
    "        path = f\"{__start_path}/{__file_name}\"\n",
    "        if(path.startswith('/')):\n",
    "            path = path[1:]\n",
    "        \n",
    "        size = int(size)\n",
    "        creation_date = datetime.strptime(creation_date, '%Y-%m-%d %H:%M:%S')\n",
    "        update_date = datetime.strptime(update_date, '%Y-%m-%d %H:%M:%S')\n",
    "        \n",
    "        data.append([rse, scope, name, checksum, size, creation_date, path, update_date, state])\n",
    "\n",
    "rucio_dumps_df = pd.DataFrame(columns=['rse', 'scope', 'name', 'checksum', 'size', 'creation_date', 'path', 'update_date', 'state'], data=data)\n",
    "\n",
    "# sort by creation date\n",
    "rucio_dumps_df = rucio_dumps_df.sort_values(by=['creation_date'])\n"
   ]
  },
  {
   "cell_type": "markdown",
   "metadata": {},
   "source": [
    "### Add a month and year key to each row of rucio dumps"
   ]
  },
  {
   "cell_type": "code",
   "execution_count": 9,
   "metadata": {},
   "outputs": [],
   "source": [
    "rucio_dumps_df['month'] = rucio_dumps_df['creation_date'].dt.month\n",
    "rucio_dumps_df['year'] = rucio_dumps_df['creation_date'].dt.year"
   ]
  },
  {
   "cell_type": "markdown",
   "metadata": {},
   "source": [
    "## Lost DIDs\n",
    "\n",
    "We will check if there are any files that are present in the Rucio dumps but not in the SEAL dumps. If there are any such files, these files are marked as lost files."
   ]
  },
  {
   "cell_type": "code",
   "execution_count": 10,
   "metadata": {},
   "outputs": [],
   "source": [
    "rucio_dumps_df.set_index('path')\n",
    "seal_dumps_concatenated_df.set_index('path')\n",
    "\n",
    "lost_dids = rucio_dumps_df[~rucio_dumps_df['path'].isin(seal_dumps_concatenated_df['path'])]"
   ]
  },
  {
   "cell_type": "markdown",
   "metadata": {},
   "source": [
    "## Dark DIDs\n",
    "\n",
    "We will check if there are any files that are present in the SEAL dumps but not in the Rucio dumps. If there are any such files, these files are marked as dark data."
   ]
  },
  {
   "cell_type": "code",
   "execution_count": 11,
   "metadata": {},
   "outputs": [],
   "source": [
    "dark_dids = seal_dumps_concatenated_df[~seal_dumps_concatenated_df['path'].isin(rucio_dumps_df['path'])]"
   ]
  },
  {
   "cell_type": "markdown",
   "metadata": {},
   "source": [
    "# Statistics"
   ]
  },
  {
   "cell_type": "code",
   "execution_count": 12,
   "metadata": {},
   "outputs": [
    {
     "name": "stdout",
     "output_type": "stream",
     "text": [
      "This report is generated from 2022-01-01 00:00:00 to 2023-04-10 00:00:00\n"
     ]
    }
   ],
   "source": [
    "time_range_start = seal_dumps_time_ranges[0].start\n",
    "time_range_end = seal_dumps_time_ranges[-1].end\n",
    "print(f\"This report is generated from {time_range_start} to {time_range_end}\")"
   ]
  },
  {
   "cell_type": "markdown",
   "metadata": {},
   "source": [
    "## Lost DIDs Analysis"
   ]
  },
  {
   "cell_type": "code",
   "execution_count": 13,
   "metadata": {},
   "outputs": [
    {
     "name": "stdout",
     "output_type": "stream",
     "text": [
      "Number of Rucio DIDs: 2818989\n",
      "Number of lost files: 164326\n",
      "Percentage of Lost Files: 5.83%\n"
     ]
    }
   ],
   "source": [
    "num_rucio_dids = rucio_dumps_df['name'].nunique()\n",
    "percentage_lost_num_dids = round((lost_dids.shape[0] / num_rucio_dids) * 100, 2)\n",
    "\n",
    "print(f\"Number of Rucio DIDs: {num_rucio_dids}\")\n",
    "print(f\"Number of lost files: {lost_dids.shape[0]}\")\n",
    "print(f\"Percentage of Lost Files: {percentage_lost_num_dids}%\")\n"
   ]
  },
  {
   "cell_type": "markdown",
   "metadata": {},
   "source": [
    "We will invalidate the files reported as lost that do not fall in the time period under consideration."
   ]
  },
  {
   "cell_type": "code",
   "execution_count": 14,
   "metadata": {},
   "outputs": [
    {
     "name": "stdout",
     "output_type": "stream",
     "text": [
      "Number of invalid lost files: 0\n"
     ]
    }
   ],
   "source": [
    "invalid_lost_files = lost_dids[(lost_dids['creation_date'] < time_range_start) | (lost_dids['creation_date'] > time_range_end)]\n",
    "\n",
    "print(f\"Number of invalid lost files: {invalid_lost_files.shape[0]}\")"
   ]
  },
  {
   "cell_type": "code",
   "execution_count": 15,
   "metadata": {},
   "outputs": [
    {
     "name": "stdout",
     "output_type": "stream",
     "text": [
      "Total size of Rucio DIDs: 4199.303 TB\n",
      "Total size of Lost DIDs: 730.7 TB\n",
      "Percentage of Lost Size: 17.4%\n"
     ]
    }
   ],
   "source": [
    "from core.utils import bytesToTB\n",
    "total_size_rucio = rucio_dumps_df['size'].sum()\n",
    "size_lost_files = lost_dids['size'].sum()\n",
    "percentage_lost_size = round((size_lost_files / total_size_rucio) * 100, 2)\n",
    "\n",
    "\n",
    "print(f\"Total size of Rucio DIDs: {bytesToTB(total_size_rucio)} TB\")\n",
    "print(f\"Total size of Lost DIDs: {bytesToTB(size_lost_files)} TB\")\n",
    "print(f\"Percentage of Lost Size: {percentage_lost_size}%\")\n"
   ]
  },
  {
   "cell_type": "code",
   "execution_count": 16,
   "metadata": {},
   "outputs": [
    {
     "data": {
      "image/png": "[encoded data removed]",
      "text/plain": [
       "<Figure size 640x480 with 2 Axes>"
      ]
     },
     "metadata": {},
     "output_type": "display_data"
    }
   ],
   "source": [
    "import matplotlib.pyplot as plt\n",
    "\n",
    "labels = ['Available', 'Lost']\n",
    "sizes = [total_size_rucio - size_lost_files, size_lost_files]\n",
    "\n",
    "colors = ['olivedrab','saddlebrown']\n",
    "\n",
    "fig, axs = plt.subplots(1, 2)\n",
    "\n",
    "axs[0].pie([num_rucio_dids - lost_dids.shape[0], lost_dids.shape[0]], labels=['Available', 'Lost'], autopct='%1.1f%%', startangle=90, colors=colors)\n",
    "axs[0].set_title('Lost Data ( by Number of DIDs )')\n",
    "axs[0].set_xlabel(f'Total DIDs: {num_rucio_dids}')\n",
    "\n",
    "axs[1].pie(sizes, labels=labels, autopct='%1.1f%%', startangle=90, colors=colors)\n",
    "axs[1].set_title('Lost Data ( by Size )')\n",
    "axs[1].set_xlabel(f'Total Size: {bytesToTB(total_size_rucio)} TB')\n",
    "\n",
    "plt.show()"
   ]
  },
  {
   "cell_type": "markdown",
   "metadata": {},
   "source": [
    "## Dark DIDs Analysis"
   ]
  },
  {
   "cell_type": "code",
   "execution_count": 17,
   "metadata": {},
   "outputs": [
    {
     "name": "stdout",
     "output_type": "stream",
     "text": [
      "Number of SEAL DIDs: 2654682\n",
      "Number of Dark Files: 20\n",
      "Percentage of Dark Data: 0.0%\n"
     ]
    }
   ],
   "source": [
    "num_seal_dids = seal_dumps_concatenated_df['name'].nunique()\n",
    "num_dark_dids = dark_dids['name'].nunique()\n",
    "percentage_dark = round((dark_dids.shape[0] / num_seal_dids) * 100, 2)\n",
    "\n",
    "print(f\"Number of SEAL DIDs: {num_seal_dids}\")\n",
    "print(f\"Number of Dark Files: {dark_dids.shape[0]}\")\n",
    "print(f\"Percentage of Dark Data: {percentage_dark}%\" )"
   ]
  },
  {
   "cell_type": "code",
   "execution_count": 18,
   "metadata": {},
   "outputs": [
    {
     "name": "stdout",
     "output_type": "stream",
     "text": [
      "Total size of SEAL DIDs: 3468.571 TB\n",
      "Total size of Dark Data: 0.004 TB\n",
      "Percentage of Dark Size: 0.0%\n"
     ]
    }
   ],
   "source": [
    "total_size_seal = seal_dumps_concatenated_df['size'].sum()\n",
    "size_dark_files = dark_dids['size'].sum()\n",
    "percentage_dark_size = round((size_dark_files / total_size_seal) * 100, 2)\n",
    "\n",
    "print(f\"Total size of SEAL DIDs: {bytesToTB(total_size_seal)} TB\")\n",
    "print(f\"Total size of Dark Data: {bytesToTB(size_dark_files)} TB\")\n",
    "print(f\"Percentage of Dark Size: {percentage_dark_size}%\")"
   ]
  },
  {
   "cell_type": "code",
   "execution_count": 19,
   "metadata": {},
   "outputs": [
    {
     "data": {
      "image/png": "[encoded data removed]",
      "text/plain": [
       "<Figure size 640x480 with 2 Axes>"
      ]
     },
     "metadata": {},
     "output_type": "display_data"
    }
   ],
   "source": [
    "fig, axs = plt.subplots(1, 2)\n",
    "\n",
    "sizes = [total_size_seal - size_dark_files, size_dark_files]\n",
    "\n",
    "axs[0].pie([num_seal_dids - dark_dids.shape[0], dark_dids.shape[0]], labels=['Available', 'Dark'], autopct='%1.1f%%', startangle=90, colors=colors)\n",
    "axs[0].set_title('Dark Data ( by Number of DIDs )')\n",
    "axs[0].set_xlabel(f'Total DIDs: {num_seal_dids}')\n",
    "\n",
    "axs[1].pie(sizes, labels=[\"Available\", \"Dark\"], autopct='%1.1f%%', startangle=90, colors=colors)\n",
    "axs[1].set_title('Dark Data ( by Size )')\n",
    "axs[1].set_xlabel(f'Total Size: {bytesToTB(total_size_seal)} TB')\n",
    "\n",
    "\n",
    "\n",
    "plt.show()"
   ]
  },
  {
   "cell_type": "markdown",
   "metadata": {},
   "source": [
    "# Consistent DIDs\n",
    "\n",
    "Consistent DIDs are present in both Rucio and SEAL dumps."
   ]
  },
  {
   "cell_type": "code",
   "execution_count": 20,
   "metadata": {},
   "outputs": [
    {
     "name": "stdout",
     "output_type": "stream",
     "text": [
      "Number of Consistent DIDs: 2654663\n",
      "Percentage of Consistent DIDs: 94.17%\n"
     ]
    }
   ],
   "source": [
    "consistent_dids = rucio_dumps_df[rucio_dumps_df['path'].isin(seal_dumps_concatenated_df['path'])]\n",
    "\n",
    "num_consistent_dids = consistent_dids['name'].nunique()\n",
    "percentage_consistent = round((num_consistent_dids / num_rucio_dids) * 100, 2)\n",
    "\n",
    "print(f\"Number of Consistent DIDs: {num_consistent_dids}\")\n",
    "print(f\"Percentage of Consistent DIDs: {percentage_consistent}%\")"
   ]
  },
  {
   "cell_type": "code",
   "execution_count": 21,
   "metadata": {},
   "outputs": [
    {
     "name": "stdout",
     "output_type": "stream",
     "text": [
      "Total size of Consistent DIDs: 3468.604 TB\n",
      "Percentage of Consistent Size: 82.6%\n"
     ]
    }
   ],
   "source": [
    "size_consistent_files = consistent_dids['size'].sum()\n",
    "percentage_consistent_size = round((size_consistent_files / total_size_rucio) * 100, 2)\n",
    "\n",
    "print(f\"Total size of Consistent DIDs: {bytesToTB(size_consistent_files)} TB\")\n",
    "print(f\"Percentage of Consistent Size: {percentage_consistent_size}%\")"
   ]
  },
  {
   "cell_type": "markdown",
   "metadata": {},
   "source": [
    "# Save the results"
   ]
  },
  {
   "cell_type": "code",
   "execution_count": 22,
   "metadata": {},
   "outputs": [],
   "source": [
    "start_date = time_range_start.strftime('%Y%m%d')\n",
    "end_date = time_range_end.strftime('%Y%m%d')\n",
    "lost_dids.to_csv(f'data/outputs/{start_date}-{end_date}_lost_dids.csv', index=False)\n",
    "dark_dids.to_csv(f'data/outputs/{start_date}-{end_date}_dark_dids.csv', index=False)\n",
    "consistent_dids.to_csv(f'data/outputs/{start_date}-{end_date}_consistent_dids.csv', index=False)"
   ]
  },
  {
   "cell_type": "markdown",
   "metadata": {},
   "source": [
    "# Monthly Analysis"
   ]
  },
  {
   "cell_type": "code",
   "execution_count": 23,
   "metadata": {},
   "outputs": [
    {
     "name": "stdout",
     "output_type": "stream",
     "text": [
      "2022-01-01 00:00:00 2023-04-10 00:00:00\n"
     ]
    }
   ],
   "source": [
    "print(time_range_start, time_range_end)"
   ]
  },
  {
   "cell_type": "code",
   "execution_count": 24,
   "metadata": {},
   "outputs": [
    {
     "name": "stderr",
     "output_type": "stream",
     "text": [
      "/var/folders/0x/zbc_xnv17ggfqczysm3_5g_80000gn/T/ipykernel_57005/1908101892.py:2: SettingWithCopyWarning: \n",
      "A value is trying to be set on a copy of a slice from a DataFrame.\n",
      "Try using .loc[row_indexer,col_indexer] = value instead\n",
      "\n",
      "See the caveats in the documentation: https://pandas.pydata.org/pandas-docs/stable/user_guide/indexing.html#returning-a-view-versus-a-copy\n",
      "  lost_dids['month_year'] = list(zip(lost_dids['month'], lost_dids['year']))\n",
      "/var/folders/0x/zbc_xnv17ggfqczysm3_5g_80000gn/T/ipykernel_57005/1908101892.py:3: SettingWithCopyWarning: \n",
      "A value is trying to be set on a copy of a slice from a DataFrame.\n",
      "Try using .loc[row_indexer,col_indexer] = value instead\n",
      "\n",
      "See the caveats in the documentation: https://pandas.pydata.org/pandas-docs/stable/user_guide/indexing.html#returning-a-view-versus-a-copy\n",
      "  dark_dids['month_year'] = list(zip(dark_dids['month'], dark_dids['year']))\n",
      "/var/folders/0x/zbc_xnv17ggfqczysm3_5g_80000gn/T/ipykernel_57005/1908101892.py:4: SettingWithCopyWarning: \n",
      "A value is trying to be set on a copy of a slice from a DataFrame.\n",
      "Try using .loc[row_indexer,col_indexer] = value instead\n",
      "\n",
      "See the caveats in the documentation: https://pandas.pydata.org/pandas-docs/stable/user_guide/indexing.html#returning-a-view-versus-a-copy\n",
      "  consistent_dids['month_year'] = list(zip(consistent_dids['month'], consistent_dids['year']))\n"
     ]
    }
   ],
   "source": [
    "# break into month, year tuples\n",
    "lost_dids['month_year'] = list(zip(lost_dids['month'], lost_dids['year']))\n",
    "dark_dids['month_year'] = list(zip(dark_dids['month'], dark_dids['year']))\n",
    "consistent_dids['month_year'] = list(zip(consistent_dids['month'], consistent_dids['year']))"
   ]
  },
  {
   "cell_type": "code",
   "execution_count": 25,
   "metadata": {},
   "outputs": [
    {
     "data": {
      "text/plain": [
       "array([(5, 2022), (6, 2022), (8, 2022), (9, 2022), (11, 2022), (12, 2022),\n",
       "       (1, 2023), (3, 2023), (4, 2023)], dtype=object)"
      ]
     },
     "execution_count": 25,
     "metadata": {},
     "output_type": "execute_result"
    }
   ],
   "source": [
    "lost_dids['month_year'].unique()\n",
    "dark_dids['month_year'].unique()\n",
    "consistent_dids['month_year'].unique()"
   ]
  },
  {
   "cell_type": "code",
   "execution_count": 26,
   "metadata": {},
   "outputs": [],
   "source": [
    "import plotly.express as px\n",
    "from plotly.subplots import make_subplots\n",
    "import plotly.graph_objects as go\n"
   ]
  },
  {
   "cell_type": "code",
   "execution_count": 27,
   "metadata": {},
   "outputs": [],
   "source": [
    "pd.options.plotting.backend='plotly'\n"
   ]
  },
  {
   "cell_type": "code",
   "execution_count": 28,
   "metadata": {},
   "outputs": [
    {
     "data": {
      "application/vnd.plotly.v1+json": {
       "config": {
        "plotlyServerURL": "https://plot.ly"
       },
       "data": [
        {
         "domain": {
          "x": [
           0,
           0.44
          ],
          "y": [
           0.9185185185185185,
           1
          ]
         },
         "labels": [
          "Lost",
          "Dark",
          "Consistent"
         ],
         "textinfo": "label+percent",
         "title": {
          "position": "bottom center",
          "text": "Count: 357836 DIDs"
         },
         "type": "pie",
         "values": [
          562,
          4,
          357270
         ]
        },
        {
         "domain": {
          "x": [
           0.54,
           0.98
          ],
          "y": [
           0.9185185185185185,
           1
          ]
         },
         "labels": [
          "Lost",
          "Dark",
          "Consistent"
         ],
         "marker": {
          "colors": [
           "red",
           "black",
           "green"
          ]
         },
         "textinfo": "label+percent",
         "title": {
          "position": "bottom center",
          "text": "Size: 310.759 TB"
         },
         "type": "pie",
         "values": [
          693894438064,
          1491204880,
          340987294586612
         ]
        },
        {
         "domain": {
          "x": [
           0,
           0.44
          ],
          "y": [
           0.8037037037037038,
           0.8851851851851853
          ]
         },
         "labels": [
          "Lost",
          "Dark",
          "Consistent"
         ],
         "textinfo": "label+percent",
         "title": {
          "position": "bottom center",
          "text": "Count: 435755 DIDs"
         },
         "type": "pie",
         "values": [
          12,
          0,
          435743
         ]
        },
        {
         "domain": {
          "x": [
           0.54,
           0.98
          ],
          "y": [
           0.8037037037037038,
           0.8851851851851853
          ]
         },
         "labels": [
          "Lost",
          "Dark",
          "Consistent"
         ],
         "marker": {
          "colors": [
           "red",
           "black",
           "green"
          ]
         },
         "textinfo": "label+percent",
         "title": {
          "position": "bottom center",
          "text": "Size: 164.287 TB"
         },
         "type": "pie",
         "values": [
          4831233435,
          0,
          180630840683733
         ]
        },
        {
         "domain": {
          "x": [
           0,
           0.44
          ],
          "y": [
           0.6888888888888889,
           0.7703703703703704
          ]
         },
         "labels": [
          "Lost",
          "Dark",
          "Consistent"
         ],
         "textinfo": "label+percent",
         "title": {
          "position": "bottom center",
          "text": "Count: 1701 DIDs"
         },
         "type": "pie",
         "values": [
          5,
          0,
          1696
         ]
        },
        {
         "domain": {
          "x": [
           0.54,
           0.98
          ],
          "y": [
           0.6888888888888889,
           0.7703703703703704
          ]
         },
         "labels": [
          "Lost",
          "Dark",
          "Consistent"
         ],
         "marker": {
          "colors": [
           "red",
           "black",
           "green"
          ]
         },
         "textinfo": "label+percent",
         "title": {
          "position": "bottom center",
          "text": "Size: 2.208 TB"
         },
         "type": "pie",
         "values": [
          5272808012,
          0,
          2422308544374
         ]
        },
        {
         "domain": {
          "x": [
           0,
           0.44
          ],
          "y": [
           0.5740740740740741,
           0.6555555555555556
          ]
         },
         "labels": [
          "Lost",
          "Dark",
          "Consistent"
         ],
         "textinfo": "label+percent",
         "title": {
          "position": "bottom center",
          "text": "Count: 296179 DIDs"
         },
         "type": "pie",
         "values": [
          205,
          16,
          295958
         ]
        },
        {
         "domain": {
          "x": [
           0.54,
           0.98
          ],
          "y": [
           0.5740740740740741,
           0.6555555555555556
          ]
         },
         "labels": [
          "Lost",
          "Dark",
          "Consistent"
         ],
         "marker": {
          "colors": [
           "red",
           "black",
           "green"
          ]
         },
         "textinfo": "label+percent",
         "title": {
          "position": "bottom center",
          "text": "Size: 0.356 TB"
         },
         "type": "pie",
         "values": [
          192162481,
          2499967568,
          389111592781
         ]
        },
        {
         "domain": {
          "x": [
           0,
           0.44
          ],
          "y": [
           0.45925925925925926,
           0.5407407407407407
          ]
         },
         "labels": [
          "Lost",
          "Dark",
          "Consistent"
         ],
         "textinfo": "label+percent",
         "title": {
          "position": "bottom center",
          "text": "Count: 13 DIDs"
         },
         "type": "pie",
         "values": [
          13,
          0,
          0
         ]
        },
        {
         "domain": {
          "x": [
           0.54,
           0.98
          ],
          "y": [
           0.45925925925925926,
           0.5407407407407407
          ]
         },
         "labels": [
          "Lost",
          "Dark",
          "Consistent"
         ],
         "marker": {
          "colors": [
           "red",
           "black",
           "green"
          ]
         },
         "textinfo": "label+percent",
         "title": {
          "position": "bottom center",
          "text": "Size: 0.0 TB"
         },
         "type": "pie",
         "values": [
          251658235,
          0,
          0
         ]
        },
        {
         "domain": {
          "x": [
           0,
           0.44
          ],
          "y": [
           0.34444444444444444,
           0.42592592592592593
          ]
         },
         "labels": [
          "Lost",
          "Dark",
          "Consistent"
         ],
         "textinfo": "label+percent",
         "title": {
          "position": "bottom center",
          "text": "Count: 62092 DIDs"
         },
         "type": "pie",
         "values": [
          496,
          0,
          61596
         ]
        },
        {
         "domain": {
          "x": [
           0.54,
           0.98
          ],
          "y": [
           0.34444444444444444,
           0.42592592592592593
          ]
         },
         "labels": [
          "Lost",
          "Dark",
          "Consistent"
         ],
         "marker": {
          "colors": [
           "red",
           "black",
           "green"
          ]
         },
         "textinfo": "label+percent",
         "title": {
          "position": "bottom center",
          "text": "Size: 94.903 TB"
         },
         "type": "pie",
         "values": [
          1477970729447,
          0,
          102868627016199
         ]
        },
        {
         "domain": {
          "x": [
           0,
           0.44
          ],
          "y": [
           0.22962962962962963,
           0.3111111111111111
          ]
         },
         "labels": [
          "Lost",
          "Dark",
          "Consistent"
         ],
         "textinfo": "label+percent",
         "title": {
          "position": "bottom center",
          "text": "Count: 1202724 DIDs"
         },
         "type": "pie",
         "values": [
          9703,
          0,
          1193021
         ]
        },
        {
         "domain": {
          "x": [
           0.54,
           0.98
          ],
          "y": [
           0.22962962962962963,
           0.3111111111111111
          ]
         },
         "labels": [
          "Lost",
          "Dark",
          "Consistent"
         ],
         "marker": {
          "colors": [
           "red",
           "black",
           "green"
          ]
         },
         "textinfo": "label+percent",
         "title": {
          "position": "bottom center",
          "text": "Size: 2071.537 TB"
         },
         "type": "pie",
         "values": [
          14044152361737,
          0,
          2263635038281159
         ]
        },
        {
         "domain": {
          "x": [
           0,
           0.44
          ],
          "y": [
           0.11481481481481481,
           0.1962962962962963
          ]
         },
         "labels": [
          "Lost",
          "Dark",
          "Consistent"
         ],
         "textinfo": "label+percent",
         "title": {
          "position": "bottom center",
          "text": "Count: 183877 DIDs"
         },
         "type": "pie",
         "values": [
          1454,
          0,
          182423
         ]
        },
        {
         "domain": {
          "x": [
           0.54,
           0.98
          ],
          "y": [
           0.11481481481481481,
           0.1962962962962963
          ]
         },
         "labels": [
          "Lost",
          "Dark",
          "Consistent"
         ],
         "marker": {
          "colors": [
           "red",
           "black",
           "green"
          ]
         },
         "textinfo": "label+percent",
         "title": {
          "position": "bottom center",
          "text": "Size: 178.273 TB"
         },
         "type": "pie",
         "values": [
          3236231316598,
          0,
          192777479448371
         ]
        },
        {
         "domain": {
          "x": [
           0,
           0.44
          ],
          "y": [
           0,
           0.08148148148148149
          ]
         },
         "labels": [
          "Lost",
          "Dark",
          "Consistent"
         ],
         "textinfo": "label+percent",
         "title": {
          "position": "bottom center",
          "text": "Count: 278525 DIDs"
         },
         "type": "pie",
         "values": [
          151876,
          0,
          126649
         ]
        },
        {
         "domain": {
          "x": [
           0.54,
           0.98
          ],
          "y": [
           0,
           0.08148148148148149
          ]
         },
         "labels": [
          "Lost",
          "Dark",
          "Consistent"
         ],
         "marker": {
          "colors": [
           "red",
           "black",
           "green"
          ]
         },
         "textinfo": "label+percent",
         "title": {
          "position": "bottom center",
          "text": "Size: 1376.853 TB"
         },
         "type": "pie",
         "values": [
          783950147853767,
          0,
          729916021564431
         ]
        }
       ],
       "layout": {
        "annotations": [
         {
          "font": {
           "size": 16
          },
          "showarrow": false,
          "text": "Count",
          "x": 0.22,
          "xanchor": "center",
          "xref": "paper",
          "y": 1,
          "yanchor": "bottom",
          "yref": "paper"
         },
         {
          "font": {
           "size": 16
          },
          "showarrow": false,
          "text": "Size",
          "x": 0.76,
          "xanchor": "center",
          "xref": "paper",
          "y": 1,
          "yanchor": "bottom",
          "yref": "paper"
         },
         {
          "font": {
           "size": 16
          },
          "showarrow": false,
          "text": "5/2022",
          "textangle": 90,
          "x": 0.98,
          "xanchor": "left",
          "xref": "paper",
          "y": 0.9592592592592593,
          "yanchor": "middle",
          "yref": "paper"
         },
         {
          "font": {
           "size": 16
          },
          "showarrow": false,
          "text": "6/2022",
          "textangle": 90,
          "x": 0.98,
          "xanchor": "left",
          "xref": "paper",
          "y": 0.8444444444444446,
          "yanchor": "middle",
          "yref": "paper"
         },
         {
          "font": {
           "size": 16
          },
          "showarrow": false,
          "text": "8/2022",
          "textangle": 90,
          "x": 0.98,
          "xanchor": "left",
          "xref": "paper",
          "y": 0.7296296296296296,
          "yanchor": "middle",
          "yref": "paper"
         },
         {
          "font": {
           "size": 16
          },
          "showarrow": false,
          "text": "9/2022",
          "textangle": 90,
          "x": 0.98,
          "xanchor": "left",
          "xref": "paper",
          "y": 0.6148148148148148,
          "yanchor": "middle",
          "yref": "paper"
         },
         {
          "font": {
           "size": 16
          },
          "showarrow": false,
          "text": "10/2022",
          "textangle": 90,
          "x": 0.98,
          "xanchor": "left",
          "xref": "paper",
          "y": 0.5,
          "yanchor": "middle",
          "yref": "paper"
         },
         {
          "font": {
           "size": 16
          },
          "showarrow": false,
          "text": "11/2022",
          "textangle": 90,
          "x": 0.98,
          "xanchor": "left",
          "xref": "paper",
          "y": 0.3851851851851852,
          "yanchor": "middle",
          "yref": "paper"
         },
         {
          "font": {
           "size": 16
          },
          "showarrow": false,
          "text": "12/2022",
          "textangle": 90,
          "x": 0.98,
          "xanchor": "left",
          "xref": "paper",
          "y": 0.27037037037037037,
          "yanchor": "middle",
          "yref": "paper"
         },
         {
          "font": {
           "size": 16
          },
          "showarrow": false,
          "text": "3/2023",
          "textangle": 90,
          "x": 0.98,
          "xanchor": "left",
          "xref": "paper",
          "y": 0.15555555555555556,
          "yanchor": "middle",
          "yref": "paper"
         },
         {
          "font": {
           "size": 16
          },
          "showarrow": false,
          "text": "4/2023",
          "textangle": 90,
          "x": 0.98,
          "xanchor": "left",
          "xref": "paper",
          "y": 0.040740740740740744,
          "yanchor": "middle",
          "yref": "paper"
         }
        ],
        "height": 3000,
        "template": {
         "data": {
          "bar": [
           {
            "error_x": {
             "color": "#2a3f5f"
            },
            "error_y": {
             "color": "#2a3f5f"
            },
            "marker": {
             "line": {
              "color": "#E5ECF6",
              "width": 0.5
             },
             "pattern": {
              "fillmode": "overlay",
              "size": 10,
              "solidity": 0.2
             }
            },
            "type": "bar"
           }
          ],
          "barpolar": [
           {
            "marker": {
             "line": {
              "color": "#E5ECF6",
              "width": 0.5
             },
             "pattern": {
              "fillmode": "overlay",
              "size": 10,
              "solidity": 0.2
             }
            },
            "type": "barpolar"
           }
          ],
          "carpet": [
           {
            "aaxis": {
             "endlinecolor": "#2a3f5f",
             "gridcolor": "white",
             "linecolor": "white",
             "minorgridcolor": "white",
             "startlinecolor": "#2a3f5f"
            },
            "baxis": {
             "endlinecolor": "#2a3f5f",
             "gridcolor": "white",
             "linecolor": "white",
             "minorgridcolor": "white",
             "startlinecolor": "#2a3f5f"
            },
            "type": "carpet"
           }
          ],
          "choropleth": [
           {
            "colorbar": {
             "outlinewidth": 0,
             "ticks": ""
            },
            "type": "choropleth"
           }
          ],
          "contour": [
           {
            "colorbar": {
             "outlinewidth": 0,
             "ticks": ""
            },
            "colorscale": [
             [
              0,
              "#0d0887"
             ],
             [
              0.1111111111111111,
              "#46039f"
             ],
             [
              0.2222222222222222,
              "#7201a8"
             ],
             [
              0.3333333333333333,
              "#9c179e"
             ],
             [
              0.4444444444444444,
              "#bd3786"
             ],
             [
              0.5555555555555556,
              "#d8576b"
             ],
             [
              0.6666666666666666,
              "#ed7953"
             ],
             [
              0.7777777777777778,
              "#fb9f3a"
             ],
             [
              0.8888888888888888,
              "#fdca26"
             ],
             [
              1,
              "#f0f921"
             ]
            ],
            "type": "contour"
           }
          ],
          "contourcarpet": [
           {
            "colorbar": {
             "outlinewidth": 0,
             "ticks": ""
            },
            "type": "contourcarpet"
           }
          ],
          "heatmap": [
           {
            "colorbar": {
             "outlinewidth": 0,
             "ticks": ""
            },
            "colorscale": [
             [
              0,
              "#0d0887"
             ],
             [
              0.1111111111111111,
              "#46039f"
             ],
             [
              0.2222222222222222,
              "#7201a8"
             ],
             [
              0.3333333333333333,
              "#9c179e"
             ],
             [
              0.4444444444444444,
              "#bd3786"
             ],
             [
              0.5555555555555556,
              "#d8576b"
             ],
             [
              0.6666666666666666,
              "#ed7953"
             ],
             [
              0.7777777777777778,
              "#fb9f3a"
             ],
             [
              0.8888888888888888,
              "#fdca26"
             ],
             [
              1,
              "#f0f921"
             ]
            ],
            "type": "heatmap"
           }
          ],
          "heatmapgl": [
           {
            "colorbar": {
             "outlinewidth": 0,
             "ticks": ""
            },
            "colorscale": [
             [
              0,
              "#0d0887"
             ],
             [
              0.1111111111111111,
              "#46039f"
             ],
             [
              0.2222222222222222,
              "#7201a8"
             ],
             [
              0.3333333333333333,
              "#9c179e"
             ],
             [
              0.4444444444444444,
              "#bd3786"
             ],
             [
              0.5555555555555556,
              "#d8576b"
             ],
             [
              0.6666666666666666,
              "#ed7953"
             ],
             [
              0.7777777777777778,
              "#fb9f3a"
             ],
             [
              0.8888888888888888,
              "#fdca26"
             ],
             [
              1,
              "#f0f921"
             ]
            ],
            "type": "heatmapgl"
           }
          ],
          "histogram": [
           {
            "marker": {
             "pattern": {
              "fillmode": "overlay",
              "size": 10,
              "solidity": 0.2
             }
            },
            "type": "histogram"
           }
          ],
          "histogram2d": [
           {
            "colorbar": {
             "outlinewidth": 0,
             "ticks": ""
            },
            "colorscale": [
             [
              0,
              "#0d0887"
             ],
             [
              0.1111111111111111,
              "#46039f"
             ],
             [
              0.2222222222222222,
              "#7201a8"
             ],
             [
              0.3333333333333333,
              "#9c179e"
             ],
             [
              0.4444444444444444,
              "#bd3786"
             ],
             [
              0.5555555555555556,
              "#d8576b"
             ],
             [
              0.6666666666666666,
              "#ed7953"
             ],
             [
              0.7777777777777778,
              "#fb9f3a"
             ],
             [
              0.8888888888888888,
              "#fdca26"
             ],
             [
              1,
              "#f0f921"
             ]
            ],
            "type": "histogram2d"
           }
          ],
          "histogram2dcontour": [
           {
            "colorbar": {
             "outlinewidth": 0,
             "ticks": ""
            },
            "colorscale": [
             [
              0,
              "#0d0887"
             ],
             [
              0.1111111111111111,
              "#46039f"
             ],
             [
              0.2222222222222222,
              "#7201a8"
             ],
             [
              0.3333333333333333,
              "#9c179e"
             ],
             [
              0.4444444444444444,
              "#bd3786"
             ],
             [
              0.5555555555555556,
              "#d8576b"
             ],
             [
              0.6666666666666666,
              "#ed7953"
             ],
             [
              0.7777777777777778,
              "#fb9f3a"
             ],
             [
              0.8888888888888888,
              "#fdca26"
             ],
             [
              1,
              "#f0f921"
             ]
            ],
            "type": "histogram2dcontour"
           }
          ],
          "mesh3d": [
           {
            "colorbar": {
             "outlinewidth": 0,
             "ticks": ""
            },
            "type": "mesh3d"
           }
          ],
          "parcoords": [
           {
            "line": {
             "colorbar": {
              "outlinewidth": 0,
              "ticks": ""
             }
            },
            "type": "parcoords"
           }
          ],
          "pie": [
           {
            "automargin": true,
            "type": "pie"
           }
          ],
          "scatter": [
           {
            "fillpattern": {
             "fillmode": "overlay",
             "size": 10,
             "solidity": 0.2
            },
            "type": "scatter"
           }
          ],
          "scatter3d": [
           {
            "line": {
             "colorbar": {
              "outlinewidth": 0,
              "ticks": ""
             }
            },
            "marker": {
             "colorbar": {
              "outlinewidth": 0,
              "ticks": ""
             }
            },
            "type": "scatter3d"
           }
          ],
          "scattercarpet": [
           {
            "marker": {
             "colorbar": {
              "outlinewidth": 0,
              "ticks": ""
             }
            },
            "type": "scattercarpet"
           }
          ],
          "scattergeo": [
           {
            "marker": {
             "colorbar": {
              "outlinewidth": 0,
              "ticks": ""
             }
            },
            "type": "scattergeo"
           }
          ],
          "scattergl": [
           {
            "marker": {
             "colorbar": {
              "outlinewidth": 0,
              "ticks": ""
             }
            },
            "type": "scattergl"
           }
          ],
          "scattermapbox": [
           {
            "marker": {
             "colorbar": {
              "outlinewidth": 0,
              "ticks": ""
             }
            },
            "type": "scattermapbox"
           }
          ],
          "scatterpolar": [
           {
            "marker": {
             "colorbar": {
              "outlinewidth": 0,
              "ticks": ""
             }
            },
            "type": "scatterpolar"
           }
          ],
          "scatterpolargl": [
           {
            "marker": {
             "colorbar": {
              "outlinewidth": 0,
              "ticks": ""
             }
            },
            "type": "scatterpolargl"
           }
          ],
          "scatterternary": [
           {
            "marker": {
             "colorbar": {
              "outlinewidth": 0,
              "ticks": ""
             }
            },
            "type": "scatterternary"
           }
          ],
          "surface": [
           {
            "colorbar": {
             "outlinewidth": 0,
             "ticks": ""
            },
            "colorscale": [
             [
              0,
              "#0d0887"
             ],
             [
              0.1111111111111111,
              "#46039f"
             ],
             [
              0.2222222222222222,
              "#7201a8"
             ],
             [
              0.3333333333333333,
              "#9c179e"
             ],
             [
              0.4444444444444444,
              "#bd3786"
             ],
             [
              0.5555555555555556,
              "#d8576b"
             ],
             [
              0.6666666666666666,
              "#ed7953"
             ],
             [
              0.7777777777777778,
              "#fb9f3a"
             ],
             [
              0.8888888888888888,
              "#fdca26"
             ],
             [
              1,
              "#f0f921"
             ]
            ],
            "type": "surface"
           }
          ],
          "table": [
           {
            "cells": {
             "fill": {
              "color": "#EBF0F8"
             },
             "line": {
              "color": "white"
             }
            },
            "header": {
             "fill": {
              "color": "#C8D4E3"
             },
             "line": {
              "color": "white"
             }
            },
            "type": "table"
           }
          ]
         },
         "layout": {
          "annotationdefaults": {
           "arrowcolor": "#2a3f5f",
           "arrowhead": 0,
           "arrowwidth": 1
          },
          "autotypenumbers": "strict",
          "coloraxis": {
           "colorbar": {
            "outlinewidth": 0,
            "ticks": ""
           }
          },
          "colorscale": {
           "diverging": [
            [
             0,
             "#8e0152"
            ],
            [
             0.1,
             "#c51b7d"
            ],
            [
             0.2,
             "#de77ae"
            ],
            [
             0.3,
             "#f1b6da"
            ],
            [
             0.4,
             "#fde0ef"
            ],
            [
             0.5,
             "#f7f7f7"
            ],
            [
             0.6,
             "#e6f5d0"
            ],
            [
             0.7,
             "#b8e186"
            ],
            [
             0.8,
             "#7fbc41"
            ],
            [
             0.9,
             "#4d9221"
            ],
            [
             1,
             "#276419"
            ]
           ],
           "sequential": [
            [
             0,
             "#0d0887"
            ],
            [
             0.1111111111111111,
             "#46039f"
            ],
            [
             0.2222222222222222,
             "#7201a8"
            ],
            [
             0.3333333333333333,
             "#9c179e"
            ],
            [
             0.4444444444444444,
             "#bd3786"
            ],
            [
             0.5555555555555556,
             "#d8576b"
            ],
            [
             0.6666666666666666,
             "#ed7953"
            ],
            [
             0.7777777777777778,
             "#fb9f3a"
            ],
            [
             0.8888888888888888,
             "#fdca26"
            ],
            [
             1,
             "#f0f921"
            ]
           ],
           "sequentialminus": [
            [
             0,
             "#0d0887"
            ],
            [
             0.1111111111111111,
             "#46039f"
            ],
            [
             0.2222222222222222,
             "#7201a8"
            ],
            [
             0.3333333333333333,
             "#9c179e"
            ],
            [
             0.4444444444444444,
             "#bd3786"
            ],
            [
             0.5555555555555556,
             "#d8576b"
            ],
            [
             0.6666666666666666,
             "#ed7953"
            ],
            [
             0.7777777777777778,
             "#fb9f3a"
            ],
            [
             0.8888888888888888,
             "#fdca26"
            ],
            [
             1,
             "#f0f921"
            ]
           ]
          },
          "colorway": [
           "#636efa",
           "#EF553B",
           "#00cc96",
           "#ab63fa",
           "#FFA15A",
           "#19d3f3",
           "#FF6692",
           "#B6E880",
           "#FF97FF",
           "#FECB52"
          ],
          "font": {
           "color": "#2a3f5f"
          },
          "geo": {
           "bgcolor": "white",
           "lakecolor": "white",
           "landcolor": "#E5ECF6",
           "showlakes": true,
           "showland": true,
           "subunitcolor": "white"
          },
          "hoverlabel": {
           "align": "left"
          },
          "hovermode": "closest",
          "mapbox": {
           "style": "light"
          },
          "paper_bgcolor": "white",
          "plot_bgcolor": "#E5ECF6",
          "polar": {
           "angularaxis": {
            "gridcolor": "white",
            "linecolor": "white",
            "ticks": ""
           },
           "bgcolor": "#E5ECF6",
           "radialaxis": {
            "gridcolor": "white",
            "linecolor": "white",
            "ticks": ""
           }
          },
          "scene": {
           "xaxis": {
            "backgroundcolor": "#E5ECF6",
            "gridcolor": "white",
            "gridwidth": 2,
            "linecolor": "white",
            "showbackground": true,
            "ticks": "",
            "zerolinecolor": "white"
           },
           "yaxis": {
            "backgroundcolor": "#E5ECF6",
            "gridcolor": "white",
            "gridwidth": 2,
            "linecolor": "white",
            "showbackground": true,
            "ticks": "",
            "zerolinecolor": "white"
           },
           "zaxis": {
            "backgroundcolor": "#E5ECF6",
            "gridcolor": "white",
            "gridwidth": 2,
            "linecolor": "white",
            "showbackground": true,
            "ticks": "",
            "zerolinecolor": "white"
           }
          },
          "shapedefaults": {
           "line": {
            "color": "#2a3f5f"
           }
          },
          "ternary": {
           "aaxis": {
            "gridcolor": "white",
            "linecolor": "white",
            "ticks": ""
           },
           "baxis": {
            "gridcolor": "white",
            "linecolor": "white",
            "ticks": ""
           },
           "bgcolor": "#E5ECF6",
           "caxis": {
            "gridcolor": "white",
            "linecolor": "white",
            "ticks": ""
           }
          },
          "title": {
           "x": 0.05
          },
          "xaxis": {
           "automargin": true,
           "gridcolor": "white",
           "linecolor": "white",
           "ticks": "",
           "title": {
            "standoff": 15
           },
           "zerolinecolor": "white",
           "zerolinewidth": 2
          },
          "yaxis": {
           "automargin": true,
           "gridcolor": "white",
           "linecolor": "white",
           "ticks": "",
           "title": {
            "standoff": 15
           },
           "zerolinecolor": "white",
           "zerolinewidth": 2
          }
         }
        },
        "title": {
         "text": "SEAL RSE: Monthly Consistency Report: 2022-01-01 00:00:00 to 2023-04-10 00:00:00"
        },
        "width": 1000
       }
      }
     },
     "metadata": {},
     "output_type": "display_data"
    }
   ],
   "source": [
    "fig = make_subplots(\n",
    "    rows=len(lost_dids[\"month_year\"].unique()), \n",
    "    cols=2,\n",
    "    specs=[[{\"type\": \"pie\"}, {\"type\": \"pie\"}]] * len(lost_dids[\"month_year\"].unique()),\n",
    "    row_titles=[f'{month}/{year}' for month, year in lost_dids['month_year'].unique()],\n",
    "    column_titles=['Count', 'Size']\n",
    ")\n",
    "for index, month_year in enumerate(lost_dids['month_year'].unique()):\n",
    "    month, year = month_year\n",
    "    monthly_lost_dids = lost_dids[(lost_dids['month'] == month) & (lost_dids['year'] == year)]\n",
    "    monthly_dark_dids = dark_dids[(dark_dids['month'] == month) & (dark_dids['year'] == year)]\n",
    "    monthly_consistent_dids = consistent_dids[(consistent_dids['month'] == month) & (consistent_dids['year'] == year)]\n",
    "\n",
    "    monthly_lost_dids_count = monthly_lost_dids['name'].nunique()\n",
    "    monthly_dark_dids_count = monthly_dark_dids['name'].nunique()\n",
    "    monthly_consistent_dids_count = monthly_consistent_dids['name'].nunique()\n",
    "    monthly_total_count = monthly_lost_dids_count + monthly_dark_dids_count + monthly_consistent_dids_count\n",
    "\n",
    "    monthly_lost_dids_size = monthly_lost_dids['size'].sum()\n",
    "    monthly_dark_dids_size = monthly_dark_dids['size'].sum()\n",
    "    monthly_consistent_dids_size = monthly_consistent_dids['size'].sum()\n",
    "    monthly_total_size = monthly_lost_dids_size + monthly_dark_dids_size + monthly_consistent_dids_size\n",
    "\n",
    "    monthly_df = pd.DataFrame(data={'Category': ['Lost', 'Dark', 'Consistent'], 'Count': [monthly_lost_dids_count, monthly_dark_dids_count, monthly_consistent_dids_count]})\n",
    "    fig.add_trace(\n",
    "        go.Pie(\n",
    "            textinfo='label+percent',\n",
    "            titleposition=\"bottom center\",\n",
    "            labels=['Lost', 'Dark', 'Consistent'],\n",
    "            values=[monthly_lost_dids_count, monthly_dark_dids_count, monthly_consistent_dids_count],\n",
    "            title=f'Count: {monthly_total_count} DIDs',\n",
    "        ), \n",
    "    row=index+1,\n",
    "    col=1\n",
    "    )\n",
    "    fig.add_trace(\n",
    "        go.Pie(\n",
    "            textinfo=\"label+percent\",\n",
    "            titleposition=\"bottom center\",\n",
    "            labels=['Lost', 'Dark', 'Consistent'],\n",
    "            values=[monthly_lost_dids_size, monthly_dark_dids_size, monthly_consistent_dids_size],\n",
    "            title=f'Size: {bytesToTB(monthly_total_size)} TB',\n",
    "            marker=dict(colors=['red', 'black', 'green'])\n",
    "        ), \n",
    "        row=index+1,\n",
    "        col=2\n",
    "    )\n",
    "\n",
    "fig.update_layout(height=3000, width=1000, title_text=f\"SEAL RSE: Monthly Consistency Report: {time_range_start} to {time_range_end}\")\n",
    "fig.show()"
   ]
  },
  {
   "cell_type": "markdown",
   "metadata": {},
   "source": [
    "### Save the results of the monthly analysis"
   ]
  },
  {
   "cell_type": "code",
   "execution_count": 30,
   "metadata": {},
   "outputs": [],
   "source": [
    "fig.write_html(f\"reports/{start_date}-{end_date}_monthly_consistency_report.html\")\n",
    "fig.write_image(f\"reports/{start_date}-{end_date}_monthly_consistency_report.png\")"
   ]
  },
  {
   "cell_type": "code",
   "execution_count": null,
   "metadata": {},
   "outputs": [],
   "source": []
  }
 ],
 "metadata": {
  "kernelspec": {
   "display_name": ".venv",
   "language": "python",
   "name": "python3"
  },
  "language_info": {
   "codemirror_mode": {
    "name": "ipython",
    "version": 3
   },
   "file_extension": ".py",
   "mimetype": "text/x-python",
   "name": "python",
   "nbconvert_exporter": "python",
   "pygments_lexer": "ipython3",
   "version": "3.11.9"
  }
 },
 "nbformat": 4,
 "nbformat_minor": 2
}
