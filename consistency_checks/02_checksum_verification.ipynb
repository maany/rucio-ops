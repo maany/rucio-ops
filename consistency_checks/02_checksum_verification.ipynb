{
 "cells": [
  {
   "cell_type": "markdown",
   "metadata": {},
   "source": [
    "# Checksum Validation and Verification ( adler32 )\n",
    "\n",
    "- **Validation**: \n",
    "    - For the DIDs that were present in both, rucio dumps and seal dumps, we will first make sure that SEAL has provided the checksums for all the DIDs that were uploaded to the storage element and were claimed to be available by SEAL. These DIDs are the ones that are present in the rucio dumps and the seal dumps.\n",
    "    - We will then report the DIDs for which the checksums are missing in the seal dumps. SEAL must provide the checksums for these missing DIDs in order to verify the integrity of the data.\n",
    "\n",
    "- **Verification**: For the subset of DIDs that are available in both the rucio dumps and the seal dumps and have the checksums available in the seal dumps, we will verify the checksums in Rucio against the checksums provided by SEAL."
   ]
  },
  {
   "cell_type": "markdown",
   "metadata": {},
   "source": [
    "## Time Range\n",
    "We need to pick a time range used to filter the DIDs from the dumps. The end time is limited by the fact that we do not have all the checksums for the DIDs in the SEAL dumps after a certain time. We will use the following time range for the analysis:"
   ]
  },
  {
   "cell_type": "code",
   "execution_count": 2,
   "metadata": {},
   "outputs": [],
   "source": [
    "from datetime import datetime\n",
    "date_start_str = '20220101' # YYYYMMDD\n",
    "date_end_str = '20230101' # YYYYMMDD\n",
    "\n",
    "date_start = datetime.strptime(date_start_str, '%Y%m%d')\n",
    "date_end = datetime.strptime(date_end_str, '%Y%m%d')"
   ]
  },
  {
   "cell_type": "markdown",
   "metadata": {},
   "source": [
    "# Checksum Validation\n",
    "\n",
    "In this section, we will process the checksums from the Rucio and SEAL dumps to make them comparable. As a reminder, we prepare a subset of the consistent DIDs for which checksums are available from Rucio and SEAL.\n",
    "\n",
    "## Checksums calculated by SEAL\n",
    "\n",
    "The `data/seal/checksums/entries_{start_date}_{end_date}.csv` file contains the checksums (adler32, md5, sha256) calculated by SEAL for the DIDs available on their storage. \n"
   ]
  },
  {
   "cell_type": "code",
   "execution_count": 3,
   "metadata": {},
   "outputs": [],
   "source": [
    "import pandas as pd\n",
    "from infratructure.repository.data_repository import list_files\n",
    "from datetime import datetime\n",
    "from core.entity import TimeRangeSourceData\n",
    "dir=\"data/seal/checksums\"\n",
    "data_files = list_files(dir)\n",
    "# sort file by name\n",
    "data_files.sort()\n",
    "data_files = [x.split('.')[0] for x in data_files]\n",
    "entries_time_series_source_data = []\n",
    "errors_time_series_source_data = []\n",
    "for file in data_files:\n",
    "    type, start_date, end_date = file.split('_')\n",
    "    start_date = datetime.strptime(start_date, '%Y%m%d')\n",
    "    end_date = datetime.strptime(end_date, '%Y%m%d')\n",
    "    df = pd.read_csv(f\"{dir}/{file}.csv\")\n",
    "    if type == \"entries\":\n",
    "        entries_time_series_source_data.append(TimeRangeSourceData(start=start_date, end=end_date, df=df, source=\"SEAL_ENTRIES\", file=f\"{dir}/{file}.csv\"))\n",
    "    if type == \"errors\":\n",
    "        errors_time_series_source_data.append(TimeRangeSourceData(start=start_date, end=end_date, df=df, source=\"SEAL_ERRORS\", file=f\"{dir}/{file}.csv\"))\n"
   ]
  },
  {
   "cell_type": "code",
   "execution_count": 4,
   "metadata": {},
   "outputs": [],
   "source": [
    "# check if the entrires form a continuous time range\n",
    "for i in range(1, len(entries_time_series_source_data)):\n",
    "    if entries_time_series_source_data[i].start != entries_time_series_source_data[i-1].end:\n",
    "        print(f\"Continuity Error: {entries_time_series_source_data[i-1].end} != {entries_time_series_source_data[i].start}\")\n",
    "        print(f\"Check files {entries_time_series_source_data[i-1].file} and {entries_time_series_source_data[i].file}\")\n",
    "\n",
    "# check if the errors form a continuous time range\n",
    "for i in range(1, len(errors_time_series_source_data)):\n",
    "    if errors_time_series_source_data[i].start != errors_time_series_source_data[i-1].end:\n",
    "        print(f\"Continuity Error: {errors_time_series_source_data[i-1].end} != {errors_time_series_source_data[i].start}\")\n",
    "        print(f\"Check files {errors_time_series_source_data[i-1].file} and {errors_time_series_source_data[i].file}\")\n"
   ]
  },
  {
   "cell_type": "markdown",
   "metadata": {},
   "source": [
    "## Data aggregation: Merge data across different time ranges ( Errors and Entries)"
   ]
  },
  {
   "cell_type": "code",
   "execution_count": 5,
   "metadata": {},
   "outputs": [
    {
     "name": "stderr",
     "output_type": "stream",
     "text": [
      "/var/folders/0x/zbc_xnv17ggfqczysm3_5g_80000gn/T/ipykernel_85622/2725483414.py:10: UserWarning: Could not infer format, so each element will be parsed individually, falling back to `dateutil`. To ensure parsing is consistent and as-expected, please specify a format.\n",
      "  errors['created'] = pd.to_datetime(errors['created'], errors = 'coerce') # some errors have invalid created time\n"
     ]
    }
   ],
   "source": [
    "entries = pd.concat([x.df for x in entries_time_series_source_data])\n",
    "errors = pd.concat([x.df for x in errors_time_series_source_data])\n",
    "\n",
    "# sort by created time\n",
    "entries = entries.sort_values(by='created')\n",
    "errors = errors.sort_values(by='created')\n",
    "\n",
    "# convert created to datetime\n",
    "entries['created'] = pd.to_datetime(entries['created'])\n",
    "errors['created'] = pd.to_datetime(errors['created'], errors = 'coerce') # some errors have invalid created time \n",
    "\n",
    "# add month column\n",
    "entries['month'] = entries['created'].dt.month\n",
    "errors['month'] = errors['created'].dt.month\n",
    "\n",
    "# add year column\n",
    "entries['year'] = entries['created'].dt.year\n",
    "errors['year'] = errors['created'].dt.year"
   ]
  },
  {
   "cell_type": "markdown",
   "metadata": {},
   "source": [
    "### Data Analysis\n",
    "We can now start with the analysis of the data."
   ]
  },
  {
   "cell_type": "code",
   "execution_count": 6,
   "metadata": {},
   "outputs": [
    {
     "name": "stdout",
     "output_type": "stream",
     "text": [
      "Num Entries: 1542871\n",
      "Total Size: 1277.133 TB\n"
     ]
    }
   ],
   "source": [
    "import pandas as pd\n",
    "from core.utils import bytesToTB\n",
    "\n",
    "entries['path'] = entries['path'].str.replace('rucio/', '')\n",
    "\n",
    "total_size_entries = entries['size_bytes'].sum()\n",
    "\n",
    "print(f'Num Entries: {entries.shape[0]}')\n",
    "print(f'Total Size: {bytesToTB(total_size_entries)} TB')"
   ]
  },
  {
   "cell_type": "markdown",
   "metadata": {},
   "source": [
    "The `data/seal/checksums/errors_{start_date}_{end_date}.csv` file contains entries that for which the checksum could not be calculated by SEAL and the specific errors that occurred.\n",
    "\n",
    "- Most of the errors indicate 404 Not Found, which means SEAL has data for the file, but the last few chunks did not complete transfer\n",
    "- Entries with a 500 Internal Server Error are essentially the same as the 404, but the in addition the to the chunk(s) missing, the metadata record could not be found"
   ]
  },
  {
   "cell_type": "code",
   "execution_count": 7,
   "metadata": {},
   "outputs": [
    {
     "name": "stdout",
     "output_type": "stream",
     "text": [
      "Num Errors: 11478\n"
     ]
    }
   ],
   "source": [
    "errors['path'] = errors['path'].str.replace('rucio/', '')\n",
    "print(f'Num Errors: {errors.shape[0]}')"
   ]
  },
  {
   "cell_type": "markdown",
   "metadata": {},
   "source": [
    "## Checksums stored by Rucio\n",
    "\n",
    "We will load the consistent did's ( subset of rucio dumps ) and filter for rows for the selected time range. The consistent did's are the ones that are present in both the rucio dumps and the seal dumps. This file was prepared in the `manual_auditor` notebook."
   ]
  },
  {
   "cell_type": "code",
   "execution_count": 8,
   "metadata": {},
   "outputs": [
    {
     "name": "stdout",
     "output_type": "stream",
     "text": [
      "Num Consistent DIDs: 2654663\n"
     ]
    }
   ],
   "source": [
    "consistent_dids_file = f'data/outputs/20220101-20230410_consistent_dids.csv'\n",
    "consistent_dids = pd.read_csv(consistent_dids_file)\n",
    "\n",
    "consistent_dids['creation_date'] = pd.to_datetime(consistent_dids['creation_date'])\n",
    "consistent_dids['update_date'] = pd.to_datetime(consistent_dids['update_date'])\n",
    "consistent_dids['size'] = pd.to_numeric(consistent_dids['size'])\n",
    "\n",
    "consistent_dids[\"month\"] = consistent_dids['creation_date'].dt.month\n",
    "consistent_dids[\"year\"] = consistent_dids['creation_date'].dt.year\n",
    "\n",
    "print(f'Num Consistent DIDs: {consistent_dids.shape[0]}')"
   ]
  },
  {
   "cell_type": "markdown",
   "metadata": {},
   "source": [
    "Now, we filter the consistent did's for the selected time range."
   ]
  },
  {
   "cell_type": "code",
   "execution_count": 9,
   "metadata": {},
   "outputs": [
    {
     "name": "stdout",
     "output_type": "stream",
     "text": [
      "Num Consistent DIDs in Date Range: 2345284\n"
     ]
    }
   ],
   "source": [
    "consistent_dids_in_time_range = consistent_dids[(consistent_dids['creation_date'] <= date_end)]\n",
    "\n",
    "print(f'Num Consistent DIDs in Date Range: {consistent_dids_in_time_range.shape[0]}')"
   ]
  },
  {
   "cell_type": "markdown",
   "metadata": {},
   "source": [
    "## Missing Checksums from SEAL\n",
    "\n",
    "The `consistent_dids_in_time_range` DataFrame contains the DIDs that are present in both the rucio dumps and the seal dumps in the selected time range. Therefore, the DIDs provided by SEAL in their `entries` and `errors` DataFrames should also be present in the `consistent_dids_in_time_range` DataFrame ( except for the `dark_dids`). We will check if this is the case.\n",
    "\n",
    "The entries that are present in the `consistent_dids_in_time_range` file but are not present in the `entries` or `errors` files are missing checksums from SEAL. We will check if there are any such entries."
   ]
  },
  {
   "cell_type": "code",
   "execution_count": 10,
   "metadata": {},
   "outputs": [
    {
     "name": "stdout",
     "output_type": "stream",
     "text": [
      "DIDs missing in entries file: 802624\n",
      "Num Missing Checksums from SEAL: 802624\n"
     ]
    }
   ],
   "source": [
    "dids_missing_checksums = consistent_dids_in_time_range[~consistent_dids_in_time_range['path'].isin(entries['path'])]\n",
    "print(f\"DIDs missing in entries file: {len(dids_missing_checksums)}\")\n",
    "# check if the dids missing checksums are not in the errors\n",
    "\n",
    "dids_missing_checksums = dids_missing_checksums[~dids_missing_checksums['path'].isin(errors['path'])]\n",
    "\n",
    "print(f'Num Missing Checksums from SEAL: {len(dids_missing_checksums)}')\n",
    "\n"
   ]
  },
  {
   "cell_type": "markdown",
   "metadata": {},
   "source": [
    "## Validation Summary"
   ]
  },
  {
   "cell_type": "code",
   "execution_count": 11,
   "metadata": {},
   "outputs": [
    {
     "name": "stdout",
     "output_type": "stream",
     "text": [
      "For the time range 2022-01-01 00:00:00 to 2023-01-01 00:00:00: 2629.288 TB registered in Rucio were available at SEAL.\n",
      "Of these, valid checksums were provided by SEAL for 1277.133 TB. SEAL could not generate checksums for 0.0 TB and these files should be marked as lost.\n",
      "1352.157 TB were missing checksums from SEAL.\n",
      "Checksum verification can only be done for 1277.131/2629.288 TB.\n"
     ]
    }
   ],
   "source": [
    "print(f\"For the time range {date_start} to {date_end}: {bytesToTB(consistent_dids_in_time_range['size'].sum())} TB registered in Rucio were available at SEAL.\")\n",
    "print(f\"Of these, valid checksums were provided by SEAL for {bytesToTB(entries['size_bytes'].sum())} TB. SEAL could not generate checksums for {bytesToTB(errors['size_bytes'].sum())} TB and these files should be marked as lost.\")\n",
    "print(f\"{bytesToTB(dids_missing_checksums['size'].sum())} TB were missing checksums from SEAL.\")\n",
    "print(f\"Checksum verification can only be done for {bytesToTB(consistent_dids_in_time_range['size'].sum()) - bytesToTB(dids_missing_checksums['size'].sum()) - bytesToTB(errors['size_bytes'].sum())}/{bytesToTB(consistent_dids_in_time_range['size'].sum())} TB.\")"
   ]
  },
  {
   "cell_type": "code",
   "execution_count": 12,
   "metadata": {},
   "outputs": [
    {
     "name": "stdout",
     "output_type": "stream",
     "text": [
      "For the time range 2022-01-01 00:00:00 to 2023-01-01 00:00:00: 2345284 DIDs registered in Rucio were available at SEAL.\n",
      "Of these, valid checksums were provided by SEAL for 1542871 DIDs. SEAL could not generate checksums for 11478 DIDs and these files should be marked as lost.\n",
      "802624 DIDs were missing checksums from SEAL.\n",
      "Checksum verification can only be done for 1531182/2345284 DIDs.\n"
     ]
    }
   ],
   "source": [
    "print(f\"For the time range {date_start} to {date_end}: {len(consistent_dids_in_time_range)} DIDs registered in Rucio were available at SEAL.\")\n",
    "print(f\"Of these, valid checksums were provided by SEAL for {len(entries)} DIDs. SEAL could not generate checksums for {len(errors)} DIDs and these files should be marked as lost.\")\n",
    "print(f\"{len(dids_missing_checksums)} DIDs were missing checksums from SEAL.\")\n",
    "print(f\"Checksum verification can only be done for {len(consistent_dids_in_time_range) - len(dids_missing_checksums) - len(errors)}/{len(consistent_dids_in_time_range)} DIDs.\")"
   ]
  },
  {
   "cell_type": "code",
   "execution_count": 13,
   "metadata": {},
   "outputs": [
    {
     "data": {
      "text/plain": [
       "Text(0.5, 1.0, 'Total: 2629.288 TB')"
      ]
     },
     "execution_count": 13,
     "metadata": {},
     "output_type": "execute_result"
    },
    {
     "data": {
      "image/png": "[encoded data removed]",
      "text/plain": [
       "<Figure size 640x480 with 2 Axes>"
      ]
     },
     "metadata": {},
     "output_type": "display_data"
    }
   ],
   "source": [
    "import matplotlib.pyplot as plt\n",
    "pd.options.plotting.backend='matplotlib'\n",
    "\n",
    "\n",
    "fig, axs = plt.subplots(1, 2)\n",
    "\n",
    "fig.suptitle(f'Checksum Validation (provided by SEAL): {date_start.strftime(\"%Y-%m-%d\")} to {date_end.strftime(\"%Y-%m-%d\")}')\n",
    "\n",
    "axs[0].pie([len(dids_missing_checksums), len(errors), len(entries)], labels=['Missing', 'Errors', 'Valid'], autopct='%1.1f%%', colors=['blue', 'red', 'green'])\n",
    "axs[0].set_title(f'Total: {len(consistent_dids_in_time_range)} DIDs')\n",
    "\n",
    "axs[1].pie([bytesToTB(dids_missing_checksums['size'].sum()), bytesToTB(errors['size_bytes'].sum()), bytesToTB(entries['size_bytes'].sum())], labels=['Missing', 'Errors', 'Valid'], autopct='%1.1f%%', colors=['blue', 'red', 'green'])\n",
    "axs[1].set_title(f'Total: {bytesToTB(consistent_dids_in_time_range[\"size\"].sum())} TB')\n"
   ]
  },
  {
   "cell_type": "code",
   "execution_count": 14,
   "metadata": {},
   "outputs": [
    {
     "name": "stdout",
     "output_type": "stream",
     "text": [
      "Missing checksums DIDs written to data/outputs/20220101-20230101_dids_missing_checksums.csv\n"
     ]
    }
   ],
   "source": [
    "missing_checksums_filename = f'data/outputs/{date_start_str}-{date_end_str}_dids_missing_checksums.csv'\n",
    "dids_missing_checksums.to_csv(missing_checksums_filename, index=False)\n",
    "print(f\"Missing checksums DIDs written to {missing_checksums_filename}\")"
   ]
  },
  {
   "cell_type": "markdown",
   "metadata": {},
   "source": [
    "# Checksum Verification\n",
    "\n",
    "This section summarizes the checksum verification ( NOT VALIDATION) results. The verification process takes the validated checksums and checks if the checksum reported by Rucio and SEAL actually match."
   ]
  },
  {
   "cell_type": "code",
   "execution_count": 15,
   "metadata": {},
   "outputs": [
    {
     "name": "stdout",
     "output_type": "stream",
     "text": [
      "For the time range 2022-01-01 00:00:00 to 2023-01-01 00:00:00:\n",
      "Checksum verification can be done for 1542660 DIDs.\n"
     ]
    }
   ],
   "source": [
    "checksum_verification_df = consistent_dids_in_time_range[consistent_dids_in_time_range['path'].isin(entries['path'])]\n",
    "print(f\"For the time range {date_start} to {date_end}:\")\n",
    "print(f\"Checksum verification can be done for {checksum_verification_df.shape[0]} DIDs.\")"
   ]
  },
  {
   "cell_type": "code",
   "execution_count": 16,
   "metadata": {},
   "outputs": [],
   "source": [
    "df_merged_checksum_data = checksum_verification_df.merge(entries, on='path')\n",
    "df_merged_checksum_data['checksum_match'] = df_merged_checksum_data['checksum'] == df_merged_checksum_data['hash_adler32']\n",
    "\n",
    "# count the number of checksums that match\n",
    "df_verified_replicas = df_merged_checksum_data[df_merged_checksum_data['checksum_match'] == True]\n",
    "df_bad_replicas = df_merged_checksum_data[df_merged_checksum_data['checksum_match'] == False]\n",
    "\n",
    "checksum_match_count = df_verified_replicas.shape[0]\n",
    "checksum_mismatch_count = df_bad_replicas.shape[0]\n"
   ]
  },
  {
   "cell_type": "markdown",
   "metadata": {},
   "source": [
    "## Analysis by Number of DIDs"
   ]
  },
  {
   "cell_type": "code",
   "execution_count": 17,
   "metadata": {},
   "outputs": [
    {
     "name": "stdout",
     "output_type": "stream",
     "text": [
      "Checksum verification results ( number of DIDs ):\n",
      "Time Range 2022-01-01 00:00:00 to 2023-01-01 00:00:00\n",
      "Potential DIDs for checksum verification: 2345284\n",
      "Missing checksum information: 802624\n",
      "Errors: 11478\n",
      "Total verifiable DIDs: 1542660\n",
      "Verified Replicas (matching checksums): 1538025\n",
      "Checksum Mismatch: 4635\n"
     ]
    }
   ],
   "source": [
    "print(f\"Checksum verification results ( number of DIDs ):\")\n",
    "print(f\"Time Range {date_start} to {date_end}\")\n",
    "\n",
    "num_potential_checksum_verification = len(consistent_dids_in_time_range)\n",
    "num_missing_checksums = len(dids_missing_checksums)\n",
    "num_errors = len(errors)\n",
    "num_verifiable = checksum_verification_df.shape[0]\n",
    "num_verified_checksums = checksum_match_count\n",
    "num_mismatch_checksums = checksum_mismatch_count\n",
    "\n",
    "\n",
    "\n",
    "print(f\"Potential DIDs for checksum verification: {num_potential_checksum_verification}\")\n",
    "print(f\"Missing checksum information: {num_missing_checksums}\")\n",
    "print(f\"Errors: {num_errors}\")\n",
    "print(f\"Total verifiable DIDs: {num_verifiable}\")\n",
    "print(f\"Verified Replicas (matching checksums): {num_verified_checksums}\")\n",
    "print(f\"Checksum Mismatch: {num_mismatch_checksums}\")"
   ]
  },
  {
   "cell_type": "markdown",
   "metadata": {},
   "source": [
    "## Analysis by Size of DIDs"
   ]
  },
  {
   "cell_type": "code",
   "execution_count": 18,
   "metadata": {},
   "outputs": [
    {
     "name": "stdout",
     "output_type": "stream",
     "text": [
      "Checksum Verification Results (Size): \n",
      "Time Range 2022-01-01 00:00:00 to 2023-01-01 00:00:00\n",
      "Potential size for checksum verification: 2629.288 TB\n",
      "Missing Checksum Info for : 1352.157 TB\n",
      "Errors: 0.0 TB\n",
      "Total verifiable size: 1277.131 TB\n",
      "Verified Size (matching checksums): 1276.236 TB\n",
      "Checksum Mismatch: 0.895 TB\n"
     ]
    }
   ],
   "source": [
    "print(f\"Checksum Verification Results (Size): \")\n",
    "print(f\"Time Range {date_start} to {date_end}\")\n",
    "\n",
    "size_potential_checksum_verification = bytesToTB(consistent_dids_in_time_range['size'].sum())\n",
    "size_missing_checksum = bytesToTB(dids_missing_checksums['size'].sum())\n",
    "size_errors = bytesToTB(errors['size_bytes'].sum())\n",
    "size_verifiable = bytesToTB(checksum_verification_df['size'].sum())\n",
    "size_verified = bytesToTB(df_verified_replicas['size_x'].sum())\n",
    "size_mismatch = bytesToTB(df_bad_replicas['size_x'].sum())\n",
    "\n",
    "print(f\"Potential size for checksum verification: {size_potential_checksum_verification} TB\")\n",
    "print(f\"Missing Checksum Info for : {size_missing_checksum} TB\")\n",
    "print(f\"Errors: {size_errors} TB\")\n",
    "print(f\"Total verifiable size: {size_verifiable} TB\")\n",
    "print(f\"Verified Size (matching checksums): {size_verified} TB\")\n",
    "print(f\"Checksum Mismatch: {size_mismatch} TB\")"
   ]
  },
  {
   "cell_type": "markdown",
   "metadata": {},
   "source": [
    "## Plots"
   ]
  },
  {
   "cell_type": "code",
   "execution_count": 19,
   "metadata": {},
   "outputs": [
    {
     "data": {
      "image/png": "[encoded data removed]",
      "text/plain": [
       "<Figure size 640x480 with 2 Axes>"
      ]
     },
     "metadata": {},
     "output_type": "display_data"
    }
   ],
   "source": [
    "import matplotlib.pyplot as plt\n",
    "\n",
    "fig, axs = plt.subplots(1, 2)\n",
    "fig.suptitle(f\"Checksum Verification Results for {date_start.strftime('%Y-%m-%d')} to {date_end.strftime('%Y-%m-%d')}\")\n",
    "\n",
    "axs[0].title.set_text('By Number of DIDs')\n",
    "axs[0].pie([num_missing_checksums, num_errors, num_verified_checksums, num_mismatch_checksums], labels=['Missing Checksum Data', 'Errors', 'Match', 'Mismatch'], colors=['blue', 'red', 'green', 'brown'], autopct='%1.1f%%')\n",
    "axs[0].xaxis.set_label_text('Total: ' + str(num_potential_checksum_verification))\n",
    "\n",
    "axs[1].title.set_text('By Size ( TB )')\n",
    "axs[1].pie([size_missing_checksum, size_errors, size_verified, size_mismatch], labels=['Missing Checksum Data', 'Errors', 'Match', 'Mismatch'], colors=['blue', 'red', 'green', 'brown'], autopct='%1.1f%%')\n",
    "axs[1].xaxis.set_label_text(f'Total: {size_potential_checksum_verification} TB')\n",
    "\n",
    "\n",
    "plt.show()"
   ]
  },
  {
   "cell_type": "markdown",
   "metadata": {},
   "source": [
    "## Save Mismatched Checksums"
   ]
  },
  {
   "cell_type": "code",
   "execution_count": 20,
   "metadata": {},
   "outputs": [],
   "source": [
    "df_bad_replicas.to_csv(f'data/outputs/{date_start_str}-{date_end_str}_checksum_mismatch.csv', index=False)"
   ]
  },
  {
   "cell_type": "markdown",
   "metadata": {},
   "source": [
    "## Monthly Plots"
   ]
  },
  {
   "cell_type": "code",
   "execution_count": 21,
   "metadata": {},
   "outputs": [
    {
     "name": "stderr",
     "output_type": "stream",
     "text": [
      "/var/folders/0x/zbc_xnv17ggfqczysm3_5g_80000gn/T/ipykernel_85622/2443347236.py:1: SettingWithCopyWarning: \n",
      "A value is trying to be set on a copy of a slice from a DataFrame.\n",
      "Try using .loc[row_indexer,col_indexer] = value instead\n",
      "\n",
      "See the caveats in the documentation: https://pandas.pydata.org/pandas-docs/stable/user_guide/indexing.html#returning-a-view-versus-a-copy\n",
      "  consistent_dids_in_time_range['month_year'] = list(zip(consistent_dids_in_time_range['month'], consistent_dids_in_time_range['year']))\n"
     ]
    }
   ],
   "source": [
    "consistent_dids_in_time_range['month_year'] = list(zip(consistent_dids_in_time_range['month'], consistent_dids_in_time_range['year'])) \n",
    "dids_missing_checksums['month_year'] = list(zip(dids_missing_checksums['month'], dids_missing_checksums['year']))\n",
    "\n"
   ]
  },
  {
   "cell_type": "code",
   "execution_count": 22,
   "metadata": {},
   "outputs": [
    {
     "name": "stdout",
     "output_type": "stream",
     "text": [
      "2022-01-01 00:00:00 2023-01-01 00:00:00\n"
     ]
    }
   ],
   "source": [
    "print(date_start, date_end)"
   ]
  },
  {
   "cell_type": "code",
   "execution_count": 23,
   "metadata": {},
   "outputs": [
    {
     "data": {
      "text/plain": [
       "array([(5, 2022), (6, 2022), (8, 2022), (9, 2022), (11, 2022), (12, 2022)],\n",
       "      dtype=object)"
      ]
     },
     "execution_count": 23,
     "metadata": {},
     "output_type": "execute_result"
    }
   ],
   "source": [
    "consistent_dids_in_time_range[\"month_year\"].unique()"
   ]
  },
  {
   "cell_type": "code",
   "execution_count": 24,
   "metadata": {},
   "outputs": [],
   "source": [
    "from plotly.subplots import make_subplots\n",
    "import plotly.graph_objects as go\n",
    "pd.options.plotting.backend='plotly'\n"
   ]
  },
  {
   "cell_type": "code",
   "execution_count": 25,
   "metadata": {},
   "outputs": [
    {
     "data": {
      "application/vnd.plotly.v1+json": {
       "config": {
        "plotlyServerURL": "https://plot.ly"
       },
       "data": [
        {
         "domain": {
          "x": [
           0,
           0.44
          ],
          "y": [
           0.875,
           1
          ]
         },
         "labels": [
          "Missing Checksum Data",
          "Errors",
          "Match",
          "Mismatch"
         ],
         "marker": {
          "colors": [
           "blue",
           "red",
           "green",
           "brown"
          ]
         },
         "textinfo": "label+percent",
         "title": {
          "position": "bottom center",
          "text": "Count: 357270"
         },
         "type": "pie",
         "values": [
          4350,
          4350,
          351811,
          1109
         ]
        },
        {
         "domain": {
          "x": [
           0.54,
           0.98
          ],
          "y": [
           0.875,
           1
          ]
         },
         "labels": [
          "Missing Checksum Data",
          "Errors",
          "Match",
          "Mismatch"
         ],
         "marker": {
          "colors": [
           "blue",
           "red",
           "green",
           "brown"
          ]
         },
         "textinfo": "label+percent",
         "title": {
          "position": "bottom center",
          "text": "Size: 310.126 TB"
         },
         "type": "pie",
         "values": [
          26.535,
          0,
          282.999,
          0.592
         ]
        },
        {
         "domain": {
          "x": [
           0,
           0.44
          ],
          "y": [
           0.7,
           0.825
          ]
         },
         "labels": [
          "Missing Checksum Data",
          "Errors",
          "Match",
          "Mismatch"
         ],
         "marker": {
          "colors": [
           "blue",
           "red",
           "green",
           "brown"
          ]
         },
         "textinfo": "label+percent",
         "title": {
          "position": "bottom center",
          "text": "Count: 435743"
         },
         "type": "pie",
         "values": [
          58,
          19,
          435031,
          654
         ]
        },
        {
         "domain": {
          "x": [
           0.54,
           0.98
          ],
          "y": [
           0.7,
           0.825
          ]
         },
         "labels": [
          "Missing Checksum Data",
          "Errors",
          "Match",
          "Mismatch"
         ],
         "marker": {
          "colors": [
           "blue",
           "red",
           "green",
           "brown"
          ]
         },
         "textinfo": "label+percent",
         "title": {
          "position": "bottom center",
          "text": "Size: 164.283 TB"
         },
         "type": "pie",
         "values": [
          0.022,
          0,
          164.013,
          0.248
         ]
        },
        {
         "domain": {
          "x": [
           0,
           0.44
          ],
          "y": [
           0.525,
           0.65
          ]
         },
         "labels": [
          "Missing Checksum Data",
          "Errors",
          "Match",
          "Mismatch"
         ],
         "marker": {
          "colors": [
           "blue",
           "red",
           "green",
           "brown"
          ]
         },
         "textinfo": "label+percent",
         "title": {
          "position": "bottom center",
          "text": "Count: 1696"
         },
         "type": "pie",
         "values": [
          0,
          22,
          1696,
          0
         ]
        },
        {
         "domain": {
          "x": [
           0.54,
           0.98
          ],
          "y": [
           0.525,
           0.65
          ]
         },
         "labels": [
          "Missing Checksum Data",
          "Errors",
          "Match",
          "Mismatch"
         ],
         "marker": {
          "colors": [
           "blue",
           "red",
           "green",
           "brown"
          ]
         },
         "textinfo": "label+percent",
         "title": {
          "position": "bottom center",
          "text": "Size: 2.203 TB"
         },
         "type": "pie",
         "values": [
          0,
          0,
          2.203,
          0
         ]
        },
        {
         "domain": {
          "x": [
           0,
           0.44
          ],
          "y": [
           0.35,
           0.475
          ]
         },
         "labels": [
          "Missing Checksum Data",
          "Errors",
          "Match",
          "Mismatch"
         ],
         "marker": {
          "colors": [
           "blue",
           "red",
           "green",
           "brown"
          ]
         },
         "textinfo": "label+percent",
         "title": {
          "position": "bottom center",
          "text": "Count: 295958"
         },
         "type": "pie",
         "values": [
          0,
          0,
          293103,
          2855
         ]
        },
        {
         "domain": {
          "x": [
           0.54,
           0.98
          ],
          "y": [
           0.35,
           0.475
          ]
         },
         "labels": [
          "Missing Checksum Data",
          "Errors",
          "Match",
          "Mismatch"
         ],
         "marker": {
          "colors": [
           "blue",
           "red",
           "green",
           "brown"
          ]
         },
         "textinfo": "label+percent",
         "title": {
          "position": "bottom center",
          "text": "Size: 0.354 TB"
         },
         "type": "pie",
         "values": [
          0,
          0,
          0.352,
          0.002
         ]
        },
        {
         "domain": {
          "x": [
           0,
           0.44
          ],
          "y": [
           0.175,
           0.3
          ]
         },
         "labels": [
          "Missing Checksum Data",
          "Errors",
          "Match",
          "Mismatch"
         ],
         "marker": {
          "colors": [
           "blue",
           "red",
           "green",
           "brown"
          ]
         },
         "textinfo": "label+percent",
         "title": {
          "position": "bottom center",
          "text": "Count: 61596"
         },
         "type": "pie",
         "values": [
          14,
          7,
          61581,
          1
         ]
        },
        {
         "domain": {
          "x": [
           0.54,
           0.98
          ],
          "y": [
           0.175,
           0.3
          ]
         },
         "labels": [
          "Missing Checksum Data",
          "Errors",
          "Match",
          "Mismatch"
         ],
         "marker": {
          "colors": [
           "blue",
           "red",
           "green",
           "brown"
          ]
         },
         "textinfo": "label+percent",
         "title": {
          "position": "bottom center",
          "text": "Size: 93.558 TB"
         },
         "type": "pie",
         "values": [
          0.029,
          0,
          93.526,
          0.004
         ]
        },
        {
         "domain": {
          "x": [
           0,
           0.44
          ],
          "y": [
           0,
           0.125
          ]
         },
         "labels": [
          "Missing Checksum Data",
          "Errors",
          "Match",
          "Mismatch"
         ],
         "marker": {
          "colors": [
           "blue",
           "red",
           "green",
           "brown"
          ]
         },
         "textinfo": "label+percent",
         "title": {
          "position": "bottom center",
          "text": "Count: 1193021"
         },
         "type": "pie",
         "values": [
          798202,
          7062,
          394803,
          16
         ]
        },
        {
         "domain": {
          "x": [
           0.54,
           0.98
          ],
          "y": [
           0,
           0.125
          ]
         },
         "labels": [
          "Missing Checksum Data",
          "Errors",
          "Match",
          "Mismatch"
         ],
         "marker": {
          "colors": [
           "blue",
           "red",
           "green",
           "brown"
          ]
         },
         "textinfo": "label+percent",
         "title": {
          "position": "bottom center",
          "text": "Size: 2058.764 TB"
         },
         "type": "pie",
         "values": [
          1325.572,
          0,
          733.142,
          0.05
         ]
        }
       ],
       "layout": {
        "annotations": [
         {
          "font": {
           "size": 16
          },
          "showarrow": false,
          "text": "Count",
          "x": 0.22,
          "xanchor": "center",
          "xref": "paper",
          "y": 1,
          "yanchor": "bottom",
          "yref": "paper"
         },
         {
          "font": {
           "size": 16
          },
          "showarrow": false,
          "text": "Size",
          "x": 0.76,
          "xanchor": "center",
          "xref": "paper",
          "y": 1,
          "yanchor": "bottom",
          "yref": "paper"
         },
         {
          "font": {
           "size": 16
          },
          "showarrow": false,
          "text": "5/2022",
          "textangle": 90,
          "x": 0.98,
          "xanchor": "left",
          "xref": "paper",
          "y": 0.9375,
          "yanchor": "middle",
          "yref": "paper"
         },
         {
          "font": {
           "size": 16
          },
          "showarrow": false,
          "text": "6/2022",
          "textangle": 90,
          "x": 0.98,
          "xanchor": "left",
          "xref": "paper",
          "y": 0.7625,
          "yanchor": "middle",
          "yref": "paper"
         },
         {
          "font": {
           "size": 16
          },
          "showarrow": false,
          "text": "8/2022",
          "textangle": 90,
          "x": 0.98,
          "xanchor": "left",
          "xref": "paper",
          "y": 0.5875,
          "yanchor": "middle",
          "yref": "paper"
         },
         {
          "font": {
           "size": 16
          },
          "showarrow": false,
          "text": "9/2022",
          "textangle": 90,
          "x": 0.98,
          "xanchor": "left",
          "xref": "paper",
          "y": 0.4125,
          "yanchor": "middle",
          "yref": "paper"
         },
         {
          "font": {
           "size": 16
          },
          "showarrow": false,
          "text": "11/2022",
          "textangle": 90,
          "x": 0.98,
          "xanchor": "left",
          "xref": "paper",
          "y": 0.2375,
          "yanchor": "middle",
          "yref": "paper"
         },
         {
          "font": {
           "size": 16
          },
          "showarrow": false,
          "text": "12/2022",
          "textangle": 90,
          "x": 0.98,
          "xanchor": "left",
          "xref": "paper",
          "y": 0.0625,
          "yanchor": "middle",
          "yref": "paper"
         }
        ],
        "height": 3000,
        "template": {
         "data": {
          "bar": [
           {
            "error_x": {
             "color": "#2a3f5f"
            },
            "error_y": {
             "color": "#2a3f5f"
            },
            "marker": {
             "line": {
              "color": "#E5ECF6",
              "width": 0.5
             },
             "pattern": {
              "fillmode": "overlay",
              "size": 10,
              "solidity": 0.2
             }
            },
            "type": "bar"
           }
          ],
          "barpolar": [
           {
            "marker": {
             "line": {
              "color": "#E5ECF6",
              "width": 0.5
             },
             "pattern": {
              "fillmode": "overlay",
              "size": 10,
              "solidity": 0.2
             }
            },
            "type": "barpolar"
           }
          ],
          "carpet": [
           {
            "aaxis": {
             "endlinecolor": "#2a3f5f",
             "gridcolor": "white",
             "linecolor": "white",
             "minorgridcolor": "white",
             "startlinecolor": "#2a3f5f"
            },
            "baxis": {
             "endlinecolor": "#2a3f5f",
             "gridcolor": "white",
             "linecolor": "white",
             "minorgridcolor": "white",
             "startlinecolor": "#2a3f5f"
            },
            "type": "carpet"
           }
          ],
          "choropleth": [
           {
            "colorbar": {
             "outlinewidth": 0,
             "ticks": ""
            },
            "type": "choropleth"
           }
          ],
          "contour": [
           {
            "colorbar": {
             "outlinewidth": 0,
             "ticks": ""
            },
            "colorscale": [
             [
              0,
              "#0d0887"
             ],
             [
              0.1111111111111111,
              "#46039f"
             ],
             [
              0.2222222222222222,
              "#7201a8"
             ],
             [
              0.3333333333333333,
              "#9c179e"
             ],
             [
              0.4444444444444444,
              "#bd3786"
             ],
             [
              0.5555555555555556,
              "#d8576b"
             ],
             [
              0.6666666666666666,
              "#ed7953"
             ],
             [
              0.7777777777777778,
              "#fb9f3a"
             ],
             [
              0.8888888888888888,
              "#fdca26"
             ],
             [
              1,
              "#f0f921"
             ]
            ],
            "type": "contour"
           }
          ],
          "contourcarpet": [
           {
            "colorbar": {
             "outlinewidth": 0,
             "ticks": ""
            },
            "type": "contourcarpet"
           }
          ],
          "heatmap": [
           {
            "colorbar": {
             "outlinewidth": 0,
             "ticks": ""
            },
            "colorscale": [
             [
              0,
              "#0d0887"
             ],
             [
              0.1111111111111111,
              "#46039f"
             ],
             [
              0.2222222222222222,
              "#7201a8"
             ],
             [
              0.3333333333333333,
              "#9c179e"
             ],
             [
              0.4444444444444444,
              "#bd3786"
             ],
             [
              0.5555555555555556,
              "#d8576b"
             ],
             [
              0.6666666666666666,
              "#ed7953"
             ],
             [
              0.7777777777777778,
              "#fb9f3a"
             ],
             [
              0.8888888888888888,
              "#fdca26"
             ],
             [
              1,
              "#f0f921"
             ]
            ],
            "type": "heatmap"
           }
          ],
          "heatmapgl": [
           {
            "colorbar": {
             "outlinewidth": 0,
             "ticks": ""
            },
            "colorscale": [
             [
              0,
              "#0d0887"
             ],
             [
              0.1111111111111111,
              "#46039f"
             ],
             [
              0.2222222222222222,
              "#7201a8"
             ],
             [
              0.3333333333333333,
              "#9c179e"
             ],
             [
              0.4444444444444444,
              "#bd3786"
             ],
             [
              0.5555555555555556,
              "#d8576b"
             ],
             [
              0.6666666666666666,
              "#ed7953"
             ],
             [
              0.7777777777777778,
              "#fb9f3a"
             ],
             [
              0.8888888888888888,
              "#fdca26"
             ],
             [
              1,
              "#f0f921"
             ]
            ],
            "type": "heatmapgl"
           }
          ],
          "histogram": [
           {
            "marker": {
             "pattern": {
              "fillmode": "overlay",
              "size": 10,
              "solidity": 0.2
             }
            },
            "type": "histogram"
           }
          ],
          "histogram2d": [
           {
            "colorbar": {
             "outlinewidth": 0,
             "ticks": ""
            },
            "colorscale": [
             [
              0,
              "#0d0887"
             ],
             [
              0.1111111111111111,
              "#46039f"
             ],
             [
              0.2222222222222222,
              "#7201a8"
             ],
             [
              0.3333333333333333,
              "#9c179e"
             ],
             [
              0.4444444444444444,
              "#bd3786"
             ],
             [
              0.5555555555555556,
              "#d8576b"
             ],
             [
              0.6666666666666666,
              "#ed7953"
             ],
             [
              0.7777777777777778,
              "#fb9f3a"
             ],
             [
              0.8888888888888888,
              "#fdca26"
             ],
             [
              1,
              "#f0f921"
             ]
            ],
            "type": "histogram2d"
           }
          ],
          "histogram2dcontour": [
           {
            "colorbar": {
             "outlinewidth": 0,
             "ticks": ""
            },
            "colorscale": [
             [
              0,
              "#0d0887"
             ],
             [
              0.1111111111111111,
              "#46039f"
             ],
             [
              0.2222222222222222,
              "#7201a8"
             ],
             [
              0.3333333333333333,
              "#9c179e"
             ],
             [
              0.4444444444444444,
              "#bd3786"
             ],
             [
              0.5555555555555556,
              "#d8576b"
             ],
             [
              0.6666666666666666,
              "#ed7953"
             ],
             [
              0.7777777777777778,
              "#fb9f3a"
             ],
             [
              0.8888888888888888,
              "#fdca26"
             ],
             [
              1,
              "#f0f921"
             ]
            ],
            "type": "histogram2dcontour"
           }
          ],
          "mesh3d": [
           {
            "colorbar": {
             "outlinewidth": 0,
             "ticks": ""
            },
            "type": "mesh3d"
           }
          ],
          "parcoords": [
           {
            "line": {
             "colorbar": {
              "outlinewidth": 0,
              "ticks": ""
             }
            },
            "type": "parcoords"
           }
          ],
          "pie": [
           {
            "automargin": true,
            "type": "pie"
           }
          ],
          "scatter": [
           {
            "fillpattern": {
             "fillmode": "overlay",
             "size": 10,
             "solidity": 0.2
            },
            "type": "scatter"
           }
          ],
          "scatter3d": [
           {
            "line": {
             "colorbar": {
              "outlinewidth": 0,
              "ticks": ""
             }
            },
            "marker": {
             "colorbar": {
              "outlinewidth": 0,
              "ticks": ""
             }
            },
            "type": "scatter3d"
           }
          ],
          "scattercarpet": [
           {
            "marker": {
             "colorbar": {
              "outlinewidth": 0,
              "ticks": ""
             }
            },
            "type": "scattercarpet"
           }
          ],
          "scattergeo": [
           {
            "marker": {
             "colorbar": {
              "outlinewidth": 0,
              "ticks": ""
             }
            },
            "type": "scattergeo"
           }
          ],
          "scattergl": [
           {
            "marker": {
             "colorbar": {
              "outlinewidth": 0,
              "ticks": ""
             }
            },
            "type": "scattergl"
           }
          ],
          "scattermapbox": [
           {
            "marker": {
             "colorbar": {
              "outlinewidth": 0,
              "ticks": ""
             }
            },
            "type": "scattermapbox"
           }
          ],
          "scatterpolar": [
           {
            "marker": {
             "colorbar": {
              "outlinewidth": 0,
              "ticks": ""
             }
            },
            "type": "scatterpolar"
           }
          ],
          "scatterpolargl": [
           {
            "marker": {
             "colorbar": {
              "outlinewidth": 0,
              "ticks": ""
             }
            },
            "type": "scatterpolargl"
           }
          ],
          "scatterternary": [
           {
            "marker": {
             "colorbar": {
              "outlinewidth": 0,
              "ticks": ""
             }
            },
            "type": "scatterternary"
           }
          ],
          "surface": [
           {
            "colorbar": {
             "outlinewidth": 0,
             "ticks": ""
            },
            "colorscale": [
             [
              0,
              "#0d0887"
             ],
             [
              0.1111111111111111,
              "#46039f"
             ],
             [
              0.2222222222222222,
              "#7201a8"
             ],
             [
              0.3333333333333333,
              "#9c179e"
             ],
             [
              0.4444444444444444,
              "#bd3786"
             ],
             [
              0.5555555555555556,
              "#d8576b"
             ],
             [
              0.6666666666666666,
              "#ed7953"
             ],
             [
              0.7777777777777778,
              "#fb9f3a"
             ],
             [
              0.8888888888888888,
              "#fdca26"
             ],
             [
              1,
              "#f0f921"
             ]
            ],
            "type": "surface"
           }
          ],
          "table": [
           {
            "cells": {
             "fill": {
              "color": "#EBF0F8"
             },
             "line": {
              "color": "white"
             }
            },
            "header": {
             "fill": {
              "color": "#C8D4E3"
             },
             "line": {
              "color": "white"
             }
            },
            "type": "table"
           }
          ]
         },
         "layout": {
          "annotationdefaults": {
           "arrowcolor": "#2a3f5f",
           "arrowhead": 0,
           "arrowwidth": 1
          },
          "autotypenumbers": "strict",
          "coloraxis": {
           "colorbar": {
            "outlinewidth": 0,
            "ticks": ""
           }
          },
          "colorscale": {
           "diverging": [
            [
             0,
             "#8e0152"
            ],
            [
             0.1,
             "#c51b7d"
            ],
            [
             0.2,
             "#de77ae"
            ],
            [
             0.3,
             "#f1b6da"
            ],
            [
             0.4,
             "#fde0ef"
            ],
            [
             0.5,
             "#f7f7f7"
            ],
            [
             0.6,
             "#e6f5d0"
            ],
            [
             0.7,
             "#b8e186"
            ],
            [
             0.8,
             "#7fbc41"
            ],
            [
             0.9,
             "#4d9221"
            ],
            [
             1,
             "#276419"
            ]
           ],
           "sequential": [
            [
             0,
             "#0d0887"
            ],
            [
             0.1111111111111111,
             "#46039f"
            ],
            [
             0.2222222222222222,
             "#7201a8"
            ],
            [
             0.3333333333333333,
             "#9c179e"
            ],
            [
             0.4444444444444444,
             "#bd3786"
            ],
            [
             0.5555555555555556,
             "#d8576b"
            ],
            [
             0.6666666666666666,
             "#ed7953"
            ],
            [
             0.7777777777777778,
             "#fb9f3a"
            ],
            [
             0.8888888888888888,
             "#fdca26"
            ],
            [
             1,
             "#f0f921"
            ]
           ],
           "sequentialminus": [
            [
             0,
             "#0d0887"
            ],
            [
             0.1111111111111111,
             "#46039f"
            ],
            [
             0.2222222222222222,
             "#7201a8"
            ],
            [
             0.3333333333333333,
             "#9c179e"
            ],
            [
             0.4444444444444444,
             "#bd3786"
            ],
            [
             0.5555555555555556,
             "#d8576b"
            ],
            [
             0.6666666666666666,
             "#ed7953"
            ],
            [
             0.7777777777777778,
             "#fb9f3a"
            ],
            [
             0.8888888888888888,
             "#fdca26"
            ],
            [
             1,
             "#f0f921"
            ]
           ]
          },
          "colorway": [
           "#636efa",
           "#EF553B",
           "#00cc96",
           "#ab63fa",
           "#FFA15A",
           "#19d3f3",
           "#FF6692",
           "#B6E880",
           "#FF97FF",
           "#FECB52"
          ],
          "font": {
           "color": "#2a3f5f"
          },
          "geo": {
           "bgcolor": "white",
           "lakecolor": "white",
           "landcolor": "#E5ECF6",
           "showlakes": true,
           "showland": true,
           "subunitcolor": "white"
          },
          "hoverlabel": {
           "align": "left"
          },
          "hovermode": "closest",
          "mapbox": {
           "style": "light"
          },
          "paper_bgcolor": "white",
          "plot_bgcolor": "#E5ECF6",
          "polar": {
           "angularaxis": {
            "gridcolor": "white",
            "linecolor": "white",
            "ticks": ""
           },
           "bgcolor": "#E5ECF6",
           "radialaxis": {
            "gridcolor": "white",
            "linecolor": "white",
            "ticks": ""
           }
          },
          "scene": {
           "xaxis": {
            "backgroundcolor": "#E5ECF6",
            "gridcolor": "white",
            "gridwidth": 2,
            "linecolor": "white",
            "showbackground": true,
            "ticks": "",
            "zerolinecolor": "white"
           },
           "yaxis": {
            "backgroundcolor": "#E5ECF6",
            "gridcolor": "white",
            "gridwidth": 2,
            "linecolor": "white",
            "showbackground": true,
            "ticks": "",
            "zerolinecolor": "white"
           },
           "zaxis": {
            "backgroundcolor": "#E5ECF6",
            "gridcolor": "white",
            "gridwidth": 2,
            "linecolor": "white",
            "showbackground": true,
            "ticks": "",
            "zerolinecolor": "white"
           }
          },
          "shapedefaults": {
           "line": {
            "color": "#2a3f5f"
           }
          },
          "ternary": {
           "aaxis": {
            "gridcolor": "white",
            "linecolor": "white",
            "ticks": ""
           },
           "baxis": {
            "gridcolor": "white",
            "linecolor": "white",
            "ticks": ""
           },
           "bgcolor": "#E5ECF6",
           "caxis": {
            "gridcolor": "white",
            "linecolor": "white",
            "ticks": ""
           }
          },
          "title": {
           "x": 0.05
          },
          "xaxis": {
           "automargin": true,
           "gridcolor": "white",
           "linecolor": "white",
           "ticks": "",
           "title": {
            "standoff": 15
           },
           "zerolinecolor": "white",
           "zerolinewidth": 2
          },
          "yaxis": {
           "automargin": true,
           "gridcolor": "white",
           "linecolor": "white",
           "ticks": "",
           "title": {
            "standoff": 15
           },
           "zerolinecolor": "white",
           "zerolinewidth": 2
          }
         }
        },
        "title": {
         "text": "SEAL RSE: Monthly Checksum Verification Report: 2022-08-01 00:00:00 to 2023-01-01 00:00:00"
        },
        "width": 1000
       }
      }
     },
     "metadata": {},
     "output_type": "display_data"
    }
   ],
   "source": [
    "fig = make_subplots(\n",
    "    rows=len(consistent_dids_in_time_range[\"month_year\"].unique()), \n",
    "    cols=2,\n",
    "    specs=[[{\"type\": \"pie\"}, {\"type\": \"pie\"}]] * len(consistent_dids_in_time_range[\"month_year\"].unique()),\n",
    "    row_titles=[f\"{month}/{year}\" for month, year in consistent_dids_in_time_range[\"month_year\"].unique()],\n",
    "    column_titles=[\"Count\", \"Size\"]\n",
    ")\n",
    "\n",
    "for index, month_year in enumerate(consistent_dids_in_time_range[\"month_year\"].unique()):\n",
    "    month, year = month_year\n",
    "    monthly_num_potential_checksum_verification = len(consistent_dids_in_time_range[(consistent_dids_in_time_range['month'] == month) & (consistent_dids_in_time_range['year'] == year)])\n",
    "    monthly_num_missing_checksums = len(dids_missing_checksums[(dids_missing_checksums['month'] == month) & (dids_missing_checksums['year'] == year)])\n",
    "    monthly_num_errors = len(errors[(errors['month'] == month) & (errors['year'] == year)])\n",
    "    monthly_num_verifiable = len(consistent_dids_in_time_range[(consistent_dids_in_time_range['month'] == month) & (consistent_dids_in_time_range['year'] == year) & consistent_dids_in_time_range['path'].isin(entries['path'])])\n",
    "    monthly_num_verified_checksums = len(df_verified_replicas[(df_verified_replicas['month_x'] == month) & (df_verified_replicas['year_x'] == year)])\n",
    "\n",
    "    monthly_size_potential_checksum_verification = bytesToTB(consistent_dids_in_time_range[(consistent_dids_in_time_range['month'] == month) & (consistent_dids_in_time_range['year'] == year)]['size'].sum())\n",
    "    monthly_size_missing_checksum = bytesToTB(dids_missing_checksums[(dids_missing_checksums['month'] == month) & (dids_missing_checksums['year'] == year)]['size'].sum())\n",
    "    monthly_size_errors = bytesToTB(errors[(errors['month'] == month) & (errors['year'] == year)]['size_bytes'].sum())\n",
    "    monthly_size_verifiable = bytesToTB(checksum_verification_df[(checksum_verification_df['month'] == month) & (checksum_verification_df['year'] == year)]['size'].sum())\n",
    "    monthly_size_verified = bytesToTB(df_verified_replicas[(df_verified_replicas['month_x'] == month) & (df_verified_replicas['year_x'] == year)]['size_x'].sum())\n",
    "    monthly_size_mismatch = bytesToTB(df_bad_replicas[(df_bad_replicas['month_x'] == month) & (df_bad_replicas['year_x'] == year)]['size_x'].sum())\n",
    "\n",
    "    # print(f\"Month: {month}/{year}\")\n",
    "    # print(f\"Potential DIDs for checksum verification: {monthly_num_potential_checksum_verification}\")\n",
    "    # print(f\"Missing checksum information: {monthly_num_missing_checksums}\")\n",
    "    # print(f\"Errors: {monthly_num_errors}\")\n",
    "    # print(f\"Total verifiable DIDs: {monthly_num_verifiable}\")\n",
    "    # print(f\"Verified Replicas (matching checksums): {monthly_num_verified_checksums}\")\n",
    "    # print(f\"Checksum Mismatch: {monthly_num_verifiable - monthly_num_verified_checksums}\")\n",
    "\n",
    "    # print(f\"Potential size for checksum verification: {monthly_size_potential_checksum_verification} TB\")\n",
    "    # print(f\"Missing Checksum Info for : {monthly_size_missing_checksum} TB\")\n",
    "    # print(f\"Errors: {monthly_size_errors} TB\")\n",
    "    # print(f\"Total verifiable size: {monthly_size_verifiable} TB\")\n",
    "    # print(f\"Verified Size (matching checksums): {monthly_size_verified} TB\")\n",
    "    # print(f\"Checksum Mismatch: {monthly_size_mismatch} TB\")\n",
    "\n",
    "    fig.add_trace(\n",
    "        go.Pie(\n",
    "            textinfo='label+percent',\n",
    "            titleposition='bottom center',\n",
    "            labels=['Missing Checksum Data', 'Errors', 'Match', 'Mismatch'],\n",
    "            values=[monthly_num_missing_checksums, monthly_num_errors, monthly_num_verified_checksums, monthly_num_verifiable - monthly_num_verified_checksums],\n",
    "            title=f\"Count: {monthly_num_potential_checksum_verification}\",\n",
    "            marker=dict(colors=['blue', 'red', 'green', 'brown'])\n",
    "        ),\n",
    "        row=index + 1,\n",
    "        col=1,\n",
    "    )\n",
    "\n",
    "    fig.add_trace(\n",
    "        go.Pie(\n",
    "            textinfo='label+percent',\n",
    "            titleposition='bottom center',\n",
    "            labels=['Missing Checksum Data', 'Errors', 'Match', 'Mismatch'],\n",
    "            values=[monthly_size_missing_checksum, monthly_size_errors, monthly_size_verified, monthly_size_mismatch],\n",
    "            title=f\"Size: {monthly_size_potential_checksum_verification} TB\",\n",
    "            marker=dict(colors=['blue', 'red', 'green', 'brown'])\n",
    "        ),\n",
    "        row=index + 1,\n",
    "        col=2,\n",
    "    )\n",
    "\n",
    "fig.update_layout(height=3000, width=1000, title_text=f\"SEAL RSE: Monthly Checksum Verification Report: {start_date} to {end_date}\")\n",
    "fig.show()"
   ]
  },
  {
   "cell_type": "markdown",
   "metadata": {},
   "source": [
    "### Save the results of monthly plots"
   ]
  },
  {
   "cell_type": "code",
   "execution_count": 26,
   "metadata": {},
   "outputs": [],
   "source": [
    "fig.write_html(f\"reports/{start_date}-{end_date}_monthly_checksum_verification.html\")\n",
    "fig.write_image(f\"reports/{start_date}-{end_date}_monthly_checksum_verification.png\")"
   ]
  },
  {
   "cell_type": "code",
   "execution_count": 28,
   "metadata": {},
   "outputs": [],
   "source": [
    "# save the data from 12/2022 for missing checksums\n",
    "\n",
    "dids_missing_checksums_122022 = dids_missing_checksums[dids_missing_checksums['month'] == 12]\n",
    "\n",
    "dids_missing_checksums_122022.to_csv(f'data/outputs/{date_start_str}-{date_end_str}_dids_missing_checksums_122022.csv', index=False)\n"
   ]
  },
  {
   "cell_type": "code",
   "execution_count": null,
   "metadata": {},
   "outputs": [],
   "source": []
  }
 ],
 "metadata": {
  "kernelspec": {
   "display_name": ".venv",
   "language": "python",
   "name": "python3"
  },
  "language_info": {
   "codemirror_mode": {
    "name": "ipython",
    "version": 3
   },
   "file_extension": ".py",
   "mimetype": "text/x-python",
   "name": "python",
   "nbconvert_exporter": "python",
   "pygments_lexer": "ipython3",
   "version": "3.11.9"
  }
 },
 "nbformat": 4,
 "nbformat_minor": 2
}
