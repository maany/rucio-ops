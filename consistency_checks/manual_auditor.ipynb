{
 "cells": [
  {
   "cell_type": "code",
   "execution_count": 32,
   "metadata": {},
   "outputs": [],
   "source": [
    "import pandas as pd"
   ]
  },
  {
   "cell_type": "markdown",
   "metadata": {},
   "source": [
    "# SEAL dumps: Serialize into TimeRangeSourceData\n",
    "---\n",
    "\n",
    "In this step, we load the files that contain the dumps provided by SEAL and store them in a TimeRangeSourceData format. This format is a dictionary that contains the following keys:\n",
    "start: the start time of the dump\n",
    "end: the end time of the dump\n",
    "file: the file that contains the dump\n",
    "source: the source of the dump ( SEAL or Rucio ). In this case, it will be SEAL."
   ]
  },
  {
   "cell_type": "code",
   "execution_count": 33,
   "metadata": {},
   "outputs": [],
   "source": [
    "from infratructure.repository.data_repository import list_files\n",
    "from datetime import datetime\n",
    "from core.entity import TimeRangeSourceData\n",
    "dir = 'data/seal'\n",
    "data_files = list_files(dir)\n",
    "data_files = [x.split('.')[0] for x in data_files]\n",
    "seal_dumps_time_ranges = []\n",
    "for file in data_files:\n",
    "    _, start_date, end_date = file.split('_')\n",
    "    start_date = datetime.strptime(start_date, '%Y%m%d')\n",
    "    end_date = datetime.strptime(end_date, '%Y%m%d')\n",
    "    df = pd.read_csv(f\"{dir}/{file}.csv\")\n",
    "    seal_dumps_time_ranges.append(TimeRangeSourceData(start=start_date, end=end_date, source='SEAL', file=f\"{dir}/{file}.csv\", df=df))\n"
   ]
  },
  {
   "cell_type": "markdown",
   "metadata": {},
   "source": [
    "## Check the continuity of the time ranges\n",
    "\n",
    "For all the files that we have, we will check if the time intervals are chained. This means that the end time of a dump is the same as the start time of the next dump. If this is not the case, we will print an error message."
   ]
  },
  {
   "cell_type": "code",
   "execution_count": 34,
   "metadata": {},
   "outputs": [
    {
     "name": "stdout",
     "output_type": "stream",
     "text": [
      "Continuity Error: 2023-02-01 00:00:00 != 2023-01-31 00:00:00\n",
      "Check files data/seal/rucio_20221201_20230201.csv and data/seal/rucio_20230131_20230410.csv\n"
     ]
    }
   ],
   "source": [
    "# sort by start date\n",
    "seal_dumps_time_ranges = sorted(seal_dumps_time_ranges, key=lambda x: x.start)\n",
    "\n",
    "# check if the entrires form a continuous time range\n",
    "for i in range(1, len(seal_dumps_time_ranges)):\n",
    "    if seal_dumps_time_ranges[i].start != seal_dumps_time_ranges[i-1].end:\n",
    "        print(f\"Continuity Error: {seal_dumps_time_ranges[i-1].end} != {seal_dumps_time_ranges[i].start}\")\n",
    "        print(f\"Check files {seal_dumps_time_ranges[i-1].file} and {seal_dumps_time_ranges[i].file}\")\n",
    "        \n"
   ]
  },
  {
   "cell_type": "markdown",
   "metadata": {},
   "source": [
    "## Merge the data across different time ranges\n",
    "\n",
    "### Shortlist the final set of time ranges that form a continuous chain."
   ]
  },
  {
   "cell_type": "code",
   "execution_count": 35,
   "metadata": {},
   "outputs": [],
   "source": [
    "selected_time_ranges = seal_dumps_time_ranges[0:]"
   ]
  },
  {
   "cell_type": "markdown",
   "metadata": {},
   "source": [
    "### Concatenate the time ranges to form a single time range."
   ]
  },
  {
   "cell_type": "code",
   "execution_count": 36,
   "metadata": {},
   "outputs": [],
   "source": [
    "seal_dumps_concatenated_df = pd.concat([x.df for x in selected_time_ranges])\n",
    "\n",
    "# sort by name\n",
    "seal_dumps_concatenated_df = seal_dumps_concatenated_df.sort_values(by=['name'])\n"
   ]
  },
  {
   "cell_type": "markdown",
   "metadata": {},
   "source": [
    "# Rucio Dumps: Serialize Rucio dumps into Pandas DataFrame\n",
    "---\n",
    "\n",
    "In this step, we load the files that contain the dumps provided by Rucio and store them in a Pandas Dataframe format."
   ]
  },
  {
   "cell_type": "code",
   "execution_count": 109,
   "metadata": {},
   "outputs": [],
   "source": [
    "rucio_dumps_file = 'data/rucio/SEAL_TEST_2023-04-10'\n",
    "data = []\n",
    "with open(rucio_dumps_file) as f:\n",
    "    rucio_dumps_data = f.readlines()\n",
    "    for rucio_dumps_row in rucio_dumps_data:\n",
    "        columns = rucio_dumps_row.split('\\t')\n",
    "        columns = [x.strip() for x in columns]\n",
    "        rse, scope, name, checksum, size, creation_date, path, update_date, state , _, _, _= columns\n",
    "        __file_name = path.split('/')[-1]\n",
    "        __start_path = '/'.join(path.split('/')[0:-3])\n",
    "        path = f\"{__start_path}/{__file_name}\"\n",
    "        if(path.startswith('/')):\n",
    "            path = path[1:]\n",
    "        \n",
    "        size = int(size)\n",
    "        creation_date = datetime.strptime(creation_date, '%Y-%m-%d %H:%M:%S')\n",
    "        update_date = datetime.strptime(update_date, '%Y-%m-%d %H:%M:%S')\n",
    "        \n",
    "        data.append([rse, scope, name, checksum, size, creation_date, path, update_date, state])\n",
    "\n",
    "rucio_dumps_df = pd.DataFrame(columns=['rse', 'scope', 'name', 'checksum', 'size', 'creation_date', 'path', 'update_date', 'state'], data=data)\n",
    "\n",
    "# sort by creation date\n",
    "rucio_dumps_df = rucio_dumps_df.sort_values(by=['creation_date'])\n"
   ]
  },
  {
   "cell_type": "markdown",
   "metadata": {},
   "source": [
    "# Consistency Checking\n"
   ]
  },
  {
   "cell_type": "markdown",
   "metadata": {},
   "source": [
    "## Lost DIDs\n",
    "\n",
    "We will check if there are any files that are present in the Rucio dumps but not in the SEAL dumps. If there are any such files, these files are marked as lost files."
   ]
  },
  {
   "cell_type": "code",
   "execution_count": 110,
   "metadata": {},
   "outputs": [],
   "source": [
    "rucio_dumps_df.set_index('path')\n",
    "seal_dumps_concatenated_df.set_index('path')\n",
    "\n",
    "lost_dids = rucio_dumps_df[~rucio_dumps_df['path'].isin(seal_dumps_concatenated_df['path'])]"
   ]
  },
  {
   "cell_type": "markdown",
   "metadata": {},
   "source": [
    "## Dark DIDs\n",
    "\n",
    "We will check if there are any files that are present in the SEAL dumps but not in the Rucio dumps. If there are any such files, these files are marked as dark data."
   ]
  },
  {
   "cell_type": "code",
   "execution_count": 111,
   "metadata": {},
   "outputs": [],
   "source": [
    "dark_dids = seal_dumps_concatenated_df[~seal_dumps_concatenated_df['path'].isin(rucio_dumps_df['path'])]"
   ]
  },
  {
   "cell_type": "markdown",
   "metadata": {},
   "source": [
    "# Statistics"
   ]
  },
  {
   "cell_type": "code",
   "execution_count": 112,
   "metadata": {},
   "outputs": [
    {
     "name": "stdout",
     "output_type": "stream",
     "text": [
      "This report is generated from 2022-01-01 00:00:00 to 2023-04-10 00:00:00\n"
     ]
    }
   ],
   "source": [
    "time_range_start = seal_dumps_time_ranges[0].start\n",
    "time_range_end = seal_dumps_time_ranges[-1].end\n",
    "print(f\"This report is generated from {time_range_start} to {time_range_end}\")"
   ]
  },
  {
   "cell_type": "markdown",
   "metadata": {},
   "source": [
    "## Lost DIDs Analysis"
   ]
  },
  {
   "cell_type": "code",
   "execution_count": 113,
   "metadata": {},
   "outputs": [
    {
     "name": "stdout",
     "output_type": "stream",
     "text": [
      "Number of Rucio DIDs: 2818989\n",
      "Number of lost files: 164326\n",
      "Percentage of Lost Files: 5.83%\n"
     ]
    }
   ],
   "source": [
    "num_rucio_dids = rucio_dumps_df['name'].nunique()\n",
    "percentage_lost_num_dids = round((lost_dids.shape[0] / num_rucio_dids) * 100, 2)\n",
    "\n",
    "print(f\"Number of Rucio DIDs: {num_rucio_dids}\")\n",
    "print(f\"Number of lost files: {lost_dids.shape[0]}\")\n",
    "print(f\"Percentage of Lost Files: {percentage_lost_num_dids}%\")\n"
   ]
  },
  {
   "cell_type": "markdown",
   "metadata": {},
   "source": [
    "We will invalidate the files reported as lost that do not fall in the time period under consideration."
   ]
  },
  {
   "cell_type": "code",
   "execution_count": 114,
   "metadata": {},
   "outputs": [
    {
     "name": "stdout",
     "output_type": "stream",
     "text": [
      "Number of invalid lost files: 0\n"
     ]
    }
   ],
   "source": [
    "invalid_lost_files = lost_dids[(lost_dids['creation_date'] < time_range_start) | (lost_dids['creation_date'] > time_range_end)]\n",
    "\n",
    "print(f\"Number of invalid lost files: {invalid_lost_files.shape[0]}\")"
   ]
  },
  {
   "cell_type": "code",
   "execution_count": 115,
   "metadata": {},
   "outputs": [
    {
     "name": "stdout",
     "output_type": "stream",
     "text": [
      "Total size of Rucio DIDs: 4199.303 TB\n",
      "Total size of Lost DIDs: 730.7 TB\n",
      "Percentage of Lost Size: 17.4%\n"
     ]
    }
   ],
   "source": [
    "from core.utils import bytesToTB\n",
    "total_size_rucio = rucio_dumps_df['size'].sum()\n",
    "size_lost_files = lost_dids['size'].sum()\n",
    "percentage_lost_size = round((size_lost_files / total_size_rucio) * 100, 2)\n",
    "\n",
    "\n",
    "print(f\"Total size of Rucio DIDs: {bytesToTB(total_size_rucio)} TB\")\n",
    "print(f\"Total size of Lost DIDs: {bytesToTB(size_lost_files)} TB\")\n",
    "print(f\"Percentage of Lost Size: {percentage_lost_size}%\")\n"
   ]
  },
  {
   "cell_type": "code",
   "execution_count": 116,
   "metadata": {},
   "outputs": [
    {
     "data": {
      "image/png": "[encoded data removed]",
      "text/plain": [
       "<Figure size 640x480 with 2 Axes>"
      ]
     },
     "metadata": {},
     "output_type": "display_data"
    }
   ],
   "source": [
    "import matplotlib.pyplot as plt\n",
    "\n",
    "labels = ['Available', 'Lost']\n",
    "sizes = [total_size_rucio - size_lost_files, size_lost_files]\n",
    "\n",
    "colors = ['olivedrab','saddlebrown']\n",
    "\n",
    "fig, axs = plt.subplots(1, 2)\n",
    "axs[0].pie(sizes, labels=labels, autopct='%1.1f%%', startangle=90, colors=colors)\n",
    "\n",
    "axs[0].set_title('Lost Data ( by Size )')\n",
    "axs[0].set_xlabel(f'Total Size: {bytesToTB(total_size_rucio)} TB')\n",
    "\n",
    "axs[1].pie([num_rucio_dids - lost_dids.shape[0], lost_dids.shape[0]], labels=['Available', 'Lost'], autopct='%1.1f%%', startangle=90, colors=colors)\n",
    "axs[1].set_title('Lost Data ( by Number of DIDs )')\n",
    "axs[1].set_xlabel(f'Total DIDs: {num_rucio_dids}')\n",
    "\n",
    "plt.show()"
   ]
  },
  {
   "cell_type": "markdown",
   "metadata": {},
   "source": [
    "## Dark DIDs Analysis"
   ]
  },
  {
   "cell_type": "code",
   "execution_count": 117,
   "metadata": {},
   "outputs": [
    {
     "name": "stdout",
     "output_type": "stream",
     "text": [
      "Number of SEAL DIDs: 2654682\n",
      "Number of Dark Files: 20\n",
      "Percentage of Dark Data: 0.0%\n"
     ]
    }
   ],
   "source": [
    "num_seal_dids = seal_dumps_concatenated_df['name'].nunique()\n",
    "num_dark_dids = dark_dids['name'].nunique()\n",
    "percentage_dark = round((dark_dids.shape[0] / num_seal_dids) * 100, 2)\n",
    "\n",
    "print(f\"Number of SEAL DIDs: {num_seal_dids}\")\n",
    "print(f\"Number of Dark Files: {dark_dids.shape[0]}\")\n",
    "print(f\"Percentage of Dark Data: {percentage_dark}%\" )"
   ]
  },
  {
   "cell_type": "code",
   "execution_count": 118,
   "metadata": {},
   "outputs": [
    {
     "name": "stdout",
     "output_type": "stream",
     "text": [
      "Total size of SEAL DIDs: 3468.571 TB\n",
      "Total size of Dark Data: 0.004 TB\n",
      "Percentage of Dark Size: 0.0%\n"
     ]
    }
   ],
   "source": [
    "total_size_seal = seal_dumps_concatenated_df['size'].sum()\n",
    "size_dark_files = dark_dids['size'].sum()\n",
    "percentage_dark_size = round((size_dark_files / total_size_seal) * 100, 2)\n",
    "\n",
    "print(f\"Total size of SEAL DIDs: {bytesToTB(total_size_seal)} TB\")\n",
    "print(f\"Total size of Dark Data: {bytesToTB(size_dark_files)} TB\")\n",
    "print(f\"Percentage of Dark Size: {percentage_dark_size}%\")"
   ]
  },
  {
   "cell_type": "code",
   "execution_count": 119,
   "metadata": {},
   "outputs": [
    {
     "data": {
      "image/png": "[encoded data removed]",
      "text/plain": [
       "<Figure size 640x480 with 2 Axes>"
      ]
     },
     "metadata": {},
     "output_type": "display_data"
    }
   ],
   "source": [
    "fig, axs = plt.subplots(1, 2)\n",
    "\n",
    "sizes = [total_size_seal - size_dark_files, size_dark_files]\n",
    "axs[0].pie(sizes, labels=labels, autopct='%1.1f%%', startangle=90, colors=colors)\n",
    "axs[0].set_title('Dark Data ( by Size )')\n",
    "axs[0].set_xlabel(f'Total Size: {bytesToTB(total_size_seal)} TB')\n",
    "\n",
    "axs[1].pie([num_seal_dids - dark_dids.shape[0], dark_dids.shape[0]], labels=['Available', 'Dark'], autopct='%1.1f%%', startangle=90, colors=colors)\n",
    "axs[1].set_title('Dark Data ( by Number of DIDs )')\n",
    "axs[1].set_xlabel(f'Total DIDs: {num_seal_dids}')\n",
    "\n",
    "plt.show()"
   ]
  },
  {
   "cell_type": "markdown",
   "metadata": {},
   "source": [
    "# Consistent DIDs\n",
    "\n",
    "Consistent DIDs are present in both Rucio and SEAL dumps."
   ]
  },
  {
   "cell_type": "code",
   "execution_count": 120,
   "metadata": {},
   "outputs": [
    {
     "name": "stdout",
     "output_type": "stream",
     "text": [
      "Number of Consistent DIDs: 2654663\n",
      "Percentage of Consistent DIDs: 94.17%\n"
     ]
    }
   ],
   "source": [
    "consistent_dids = rucio_dumps_df[rucio_dumps_df['path'].isin(seal_dumps_concatenated_df['path'])]\n",
    "\n",
    "num_consistent_dids = consistent_dids['name'].nunique()\n",
    "percentage_consistent = round((num_consistent_dids / num_rucio_dids) * 100, 2)\n",
    "\n",
    "print(f\"Number of Consistent DIDs: {num_consistent_dids}\")\n",
    "print(f\"Percentage of Consistent DIDs: {percentage_consistent}%\")"
   ]
  },
  {
   "cell_type": "code",
   "execution_count": 121,
   "metadata": {},
   "outputs": [
    {
     "name": "stdout",
     "output_type": "stream",
     "text": [
      "Total size of Consistent DIDs: 3468.604 TB\n",
      "Percentage of Consistent Size: 82.6%\n"
     ]
    }
   ],
   "source": [
    "size_consistent_files = consistent_dids['size'].sum()\n",
    "percentage_consistent_size = round((size_consistent_files / total_size_rucio) * 100, 2)\n",
    "\n",
    "print(f\"Total size of Consistent DIDs: {bytesToTB(size_consistent_files)} TB\")\n",
    "print(f\"Percentage of Consistent Size: {percentage_consistent_size}%\")"
   ]
  },
  {
   "cell_type": "markdown",
   "metadata": {},
   "source": [
    "# Save the results"
   ]
  },
  {
   "cell_type": "code",
   "execution_count": 124,
   "metadata": {},
   "outputs": [],
   "source": [
    "start_date = time_range_start.strftime('%Y%m%d')\n",
    "end_date = time_range_end.strftime('%Y%m%d')\n",
    "lost_dids.to_csv(f'data/outputs/lost_dids_{start_date}-{end_date}.csv', index=False)\n",
    "dark_dids.to_csv(f'data/outputs/dark_dids_{start_date}-{end_date}.csv', index=False)\n",
    "consistent_dids.to_csv(f'data/outputs/consistent_dids_{start_date}-{end_date}.csv', index=False)"
   ]
  }
 ],
 "metadata": {
  "kernelspec": {
   "display_name": ".venv",
   "language": "python",
   "name": "python3"
  },
  "language_info": {
   "codemirror_mode": {
    "name": "ipython",
    "version": 3
   },
   "file_extension": ".py",
   "mimetype": "text/x-python",
   "name": "python",
   "nbconvert_exporter": "python",
   "pygments_lexer": "ipython3",
   "version": "3.11.9"
  }
 },
 "nbformat": 4,
 "nbformat_minor": 2
}
